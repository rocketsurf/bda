{
  "cells": [
    {
      "cell_type": "code",
      "execution_count": null,
      "metadata": {
        "colab": {
          "base_uri": "https://localhost:8080/"
        },
        "id": "pxNdGy84ZjmV",
        "outputId": "18313faa-122b-417c-d6ba-f0010d75fc1a"
      },
      "outputs": [
        {
          "output_type": "stream",
          "name": "stdout",
          "text": [
            "/content/weather.csv MapPartitionsRDD[26] at textFile at NativeMethodAccessorImpl.java:0\n"
          ]
        }
      ],
      "source": [
        "from pyspark.sql import SparkSession\n",
        "spark = SparkSession.builder.appName(\"Temperature\").getOrCreate()\n",
        "sc = spark.sparkContext\n",
        "lines = sc.textFile(\"/content/weather.csv\")\n",
        "print(lines)\n",
        "\n"
      ]
    },
    {
      "cell_type": "code",
      "source": [
        "header = lines.first()\n",
        "print(header)\n",
        "lines = lines.filter(lambda line: line != header)\n",
        "print(lines.collect())"
      ],
      "metadata": {
        "colab": {
          "base_uri": "https://localhost:8080/"
        },
        "id": "jo7sRPm75FM-",
        "outputId": "67045906-a35f-4df3-b4b7-4dd888339b02"
      },
      "execution_count": null,
      "outputs": [
        {
          "output_type": "stream",
          "name": "stdout",
          "text": [
            "DISTRICT,TEMPERATURE , \n",
            "['NAMAKKAL,28,', 'KARUR,25,', 'TIRUPUR,31,', 'ERODE,32,', 'CHENNAI,41,', 'TUTICORN,25,', 'VELORE,26,', 'TIRUCHENGODE,42,', 'COIMBATORE,35,', 'MADURAI,32,', 'THENI,14,', 'DINDIGUL,26,', 'TRICHY,29,', 'TIRUVANNAMALAI,27,']\n"
          ]
        }
      ]
    },
    {
      "cell_type": "code",
      "source": [
        "city_temperature = lines.map(lambda line: line.split(','))\n",
        "print(city_temperature.collect())\n"
      ],
      "metadata": {
        "colab": {
          "base_uri": "https://localhost:8080/"
        },
        "id": "gsg02_rbdhAr",
        "outputId": "32b2e9e5-5fcb-40b5-b231-aee740f4a44a"
      },
      "execution_count": null,
      "outputs": [
        {
          "output_type": "stream",
          "name": "stdout",
          "text": [
            "[['NAMAKKAL', '28', ''], ['KARUR', '25', ''], ['TIRUPUR', '31', ''], ['ERODE', '32', ''], ['CHENNAI', '41', ''], ['TUTICORN', '25', ''], ['VELORE', '26', ''], ['TIRUCHENGODE', '42', ''], ['COIMBATORE', '35', ''], ['MADURAI', '32', ''], ['THENI', '14', ''], ['DINDIGUL', '26', ''], ['TRICHY', '29', ''], ['TIRUVANNAMALAI', '27', '']]\n"
          ]
        }
      ]
    },
    {
      "cell_type": "code",
      "source": [
        "city_temp = city_temperature.map(lambda x: (x[0], x[1]))\n",
        "print(city_temp.collect())\n",
        "print(type(city_temp))"
      ],
      "metadata": {
        "colab": {
          "base_uri": "https://localhost:8080/"
        },
        "id": "_9JVrwlgdqZz",
        "outputId": "2826ee5e-b8de-45d8-9aea-176b9c439ab3"
      },
      "execution_count": null,
      "outputs": [
        {
          "output_type": "stream",
          "name": "stdout",
          "text": [
            "[('NAMAKKAL', '28'), ('KARUR', '25'), ('TIRUPUR', '31'), ('ERODE', '32'), ('CHENNAI', '41'), ('TUTICORN', '25'), ('VELORE', '26'), ('TIRUCHENGODE', '42'), ('COIMBATORE', '35'), ('MADURAI', '32'), ('THENI', '14'), ('DINDIGUL', '26'), ('TRICHY', '29'), ('TIRUVANNAMALAI', '27')]\n",
            "<class 'pyspark.rdd.PipelinedRDD'>\n"
          ]
        }
      ]
    },
    {
      "cell_type": "code",
      "source": [
        "city_max_temp = city_temperature.map(lambda x: x[1]).max()\n",
        "\n",
        "print(\"City with Max Temperature:\", city_max_temp)\n",
        "\n",
        "city_min_temp = city_temperature.map(lambda x: x[1]).min()\n",
        "print(\"City with Min Temperature:\",city_min_temp)"
      ],
      "metadata": {
        "colab": {
          "base_uri": "https://localhost:8080/"
        },
        "id": "plmngxrjj5Dc",
        "outputId": "eb5e6268-324e-4d3b-be2f-702467ee87b7"
      },
      "execution_count": null,
      "outputs": [
        {
          "output_type": "stream",
          "name": "stdout",
          "text": [
            "City with Max Temperature: 42\n",
            "City with Min Temperature: 14\n"
          ]
        }
      ]
    },
    {
      "cell_type": "code",
      "source": [
        "''''print(\"City with Max Temperature:\", max_temp_city[0])\n",
        "print(\"Temperature:\", max_temp_city[1])\n",
        "\n",
        "print(\"City with Min Temperature:\", min_temp_city[0])\n",
        "print(\"Temperature:\", min_temp_city[1])'''\n",
        "\n",
        "sc.stop()"
      ],
      "metadata": {
        "id": "4wdlKD7Lgg8j"
      },
      "execution_count": null,
      "outputs": []
    },
    {
      "cell_type": "code",
      "source": [],
      "metadata": {
        "id": "qaDh3NcK-grg"
      },
      "execution_count": null,
      "outputs": []
    }
  ],
  "metadata": {
    "colab": {
      "provenance": []
    },
    "kernelspec": {
      "display_name": "Python 3",
      "name": "python3"
    },
    "language_info": {
      "name": "python"
    }
  },
  "nbformat": 4,
  "nbformat_minor": 0
}