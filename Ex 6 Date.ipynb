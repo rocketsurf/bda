{
  "nbformat": 4,
  "nbformat_minor": 0,
  "metadata": {
    "colab": {
      "provenance": []
    },
    "kernelspec": {
      "name": "python3",
      "display_name": "Python 3"
    },
    "language_info": {
      "name": "python"
    }
  },
  "cells": [
    {
      "cell_type": "code",
      "source": [
        "from pyspark.sql import SparkSession\n",
        "from pyspark.sql.functions import to_date\n",
        "from pyspark.sql import SparkSession\n",
        "spark = SparkSession.builder.appName(\"MySparkApp\").config(\"spark.some.config.option\", \"config-value\").getOrCreate()\n",
        "print(spark)"
      ],
      "metadata": {
        "colab": {
          "base_uri": "https://localhost:8080/"
        },
        "id": "9L-vwLTYZtLr",
        "outputId": "de3fbdae-7f91-4863-d026-8268efe38534"
      },
      "execution_count": null,
      "outputs": [
        {
          "output_type": "stream",
          "name": "stdout",
          "text": [
            "<pyspark.sql.session.SparkSession object at 0x7b1481b918d0>\n"
          ]
        }
      ]
    },
    {
      "cell_type": "markdown",
      "source": [
        "CREATING A DATAFRAME\n"
      ],
      "metadata": {
        "id": "qgl09gf4a_50"
      }
    },
    {
      "cell_type": "code",
      "source": [
        "columns=[\"ROLLNO\",\"NAME\",\"DOB\"]\n",
        "data=[(\"101\",\"AJAY\",\"2004-10-30\"),(\"102\",\"ASWIN\",\"2005-06-05\"),(\"103\",\"ANAS\",\"2004-07-17\"),(\"105\",\"ANIRUDH\",\"2004-05-18\"),(\"106\",\"ARAVIND\",\"2004-08-07\"),(\"107\",\"ARUN\",\"2002-12-17\"),(\"108\",\"DHARUN\",\"2005-04-07\"),(\"109\",\"KABILAN\",\"2003-09-05\"),(\"110\",\"BABU\",\"2004-02-06\")]\n",
        "df=spark.createDataFrame(data,columns)\n",
        "df.show()"
      ],
      "metadata": {
        "colab": {
          "base_uri": "https://localhost:8080/"
        },
        "id": "UFgBTVKBaGcR",
        "outputId": "2df7887f-d28d-4cb6-9aac-23b9e5d90fc8"
      },
      "execution_count": null,
      "outputs": [
        {
          "output_type": "stream",
          "name": "stdout",
          "text": [
            "+------+-------+----------+\n",
            "|ROLLNO|   NAME|       DOB|\n",
            "+------+-------+----------+\n",
            "|   101|   AJAY|2004-10-30|\n",
            "|   102|  ASWIN|2005-06-05|\n",
            "|   103|   ANAS|2004-07-17|\n",
            "|   105|ANIRUDH|2004-05-18|\n",
            "|   106|ARAVIND|2004-08-07|\n",
            "|   107|   ARUN|2002-12-17|\n",
            "|   108| DHARUN|2005-04-07|\n",
            "|   109|KABILAN|2003-09-05|\n",
            "|   110|   BABU|2004-02-06|\n",
            "+------+-------+----------+\n",
            "\n"
          ]
        }
      ]
    },
    {
      "cell_type": "code",
      "source": [
        "df_with_date = df.withColumn(\"date_column\", to_date(df[\"DOB\"], \"yyyy-MM-dd\"))\n",
        "df_with_date.show()"
      ],
      "metadata": {
        "colab": {
          "base_uri": "https://localhost:8080/"
        },
        "id": "BYobUYypjObi",
        "outputId": "801ed87a-96ac-4861-c7b2-8c5a7cf90a5c"
      },
      "execution_count": null,
      "outputs": [
        {
          "output_type": "stream",
          "name": "stdout",
          "text": [
            "+------+-------+----------+-----------+\n",
            "|ROLLNO|   NAME|       DOB|date_column|\n",
            "+------+-------+----------+-----------+\n",
            "|   101|   AJAY|2004-10-30| 2004-10-30|\n",
            "|   102|  ASWIN|2005-06-05| 2005-06-05|\n",
            "|   103|   ANAS|2004-07-17| 2004-07-17|\n",
            "|   105|ANIRUDH|2004-05-18| 2004-05-18|\n",
            "|   106|ARAVIND|2004-08-07| 2004-08-07|\n",
            "|   107|   ARUN|2002-12-17| 2002-12-17|\n",
            "|   108| DHARUN|2005-04-07| 2005-04-07|\n",
            "|   109|KABILAN|2003-09-05| 2003-09-05|\n",
            "|   110|   BABU|2004-02-06| 2004-02-06|\n",
            "+------+-------+----------+-----------+\n",
            "\n"
          ]
        }
      ]
    },
    {
      "cell_type": "code",
      "source": [
        "from pyspark.sql.functions import current_date, date_add,col,date_format\n",
        "df_with_date = df.select(col(\"DOB\"),date_format(col(\"DOB\"), \"yyyy-MMM-dd\"))\n",
        "df_with_date.show()"
      ],
      "metadata": {
        "colab": {
          "base_uri": "https://localhost:8080/"
        },
        "id": "hE-x6XKZWB9r",
        "outputId": "355a82c3-e1c4-4131-a73b-df630d7f4211"
      },
      "execution_count": null,
      "outputs": [
        {
          "output_type": "stream",
          "name": "stdout",
          "text": [
            "+----------+-----------------------------+\n",
            "|       DOB|date_format(DOB, yyyy-MMM-dd)|\n",
            "+----------+-----------------------------+\n",
            "|2004-10-30|                  2004-Oct-30|\n",
            "|2005-06-05|                  2005-Jun-05|\n",
            "|2004-07-17|                  2004-Jul-17|\n",
            "|2004-05-18|                  2004-May-18|\n",
            "|2004-08-07|                  2004-Aug-07|\n",
            "|2002-12-17|                  2002-Dec-17|\n",
            "|2005-04-07|                  2005-Apr-07|\n",
            "|2003-09-05|                  2003-Sep-05|\n",
            "|2004-02-06|                  2004-Feb-06|\n",
            "+----------+-----------------------------+\n",
            "\n"
          ]
        }
      ]
    },
    {
      "cell_type": "markdown",
      "source": [
        "1.DISPLAY CURRENT TIME\n"
      ],
      "metadata": {
        "id": "V05WMkq7jDUK"
      }
    },
    {
      "cell_type": "code",
      "source": [
        "from pyspark.sql.functions import current_date, date_add,current_timestamp\n",
        "df = spark.range(1).select(current_date())\n",
        "df.show(truncate=False)\n",
        "df=spark.range(1).select(current_timestamp())\n",
        "df.show()"
      ],
      "metadata": {
        "colab": {
          "base_uri": "https://localhost:8080/"
        },
        "id": "uWgTuIj0jJo2",
        "outputId": "fe5f38bb-d6f8-48eb-cef3-2193dd2f943d"
      },
      "execution_count": null,
      "outputs": [
        {
          "output_type": "stream",
          "name": "stdout",
          "text": [
            "+--------------+\n",
            "|current_date()|\n",
            "+--------------+\n",
            "|2024-10-10    |\n",
            "+--------------+\n",
            "\n",
            "+--------------------+\n",
            "| current_timestamp()|\n",
            "+--------------------+\n",
            "|2024-10-10 04:57:...|\n",
            "+--------------------+\n",
            "\n"
          ]
        }
      ]
    },
    {
      "cell_type": "markdown",
      "source": [
        "2.PRINT THE AGE OF ALL STUDENTS (in Years)\n"
      ],
      "metadata": {
        "id": "Rhl9PV5dk4i5"
      }
    },
    {
      "cell_type": "code",
      "source": [
        "from pyspark.sql.functions import current_date, datediff, floor, col\n",
        "df_with_age = df_with_date.withColumn(\"age\", (datediff(current_date(), col(\"DOB\")) / 365.25).cast(\"int\"))\n",
        "df_with_age.show(truncate=False)"
      ],
      "metadata": {
        "colab": {
          "base_uri": "https://localhost:8080/"
        },
        "id": "WouzfMiFlHuA",
        "outputId": "f2a97516-6ace-4791-d820-74c657cd3d01"
      },
      "execution_count": null,
      "outputs": [
        {
          "output_type": "stream",
          "name": "stdout",
          "text": [
            "+----------+-----------------------------+---+\n",
            "|DOB       |date_format(DOB, yyyy-MMM-dd)|age|\n",
            "+----------+-----------------------------+---+\n",
            "|2004-10-30|2004-Oct-30                  |19 |\n",
            "|2005-06-05|2005-Jun-05                  |19 |\n",
            "|2004-07-17|2004-Jul-17                  |20 |\n",
            "|2004-05-18|2004-May-18                  |20 |\n",
            "|2004-08-07|2004-Aug-07                  |20 |\n",
            "|2002-12-17|2002-Dec-17                  |21 |\n",
            "|2005-04-07|2005-Apr-07                  |19 |\n",
            "|2003-09-05|2003-Sep-05                  |21 |\n",
            "|2004-02-06|2004-Feb-06                  |20 |\n",
            "+----------+-----------------------------+---+\n",
            "\n"
          ]
        }
      ]
    },
    {
      "cell_type": "markdown",
      "source": [
        "3.PRINT THE AGE OF ALL STUDENTS (in days)"
      ],
      "metadata": {
        "id": "0iuYlrWOZszM"
      }
    },
    {
      "cell_type": "code",
      "source": [
        "df_with_age = df_with_date.withColumn(\"age\", (datediff(current_date(), col(\"DOB\"))).cast(\"int\"))\n",
        "df_with_age.show(truncate=False)"
      ],
      "metadata": {
        "colab": {
          "base_uri": "https://localhost:8080/"
        },
        "id": "UFzI7k3uZN-e",
        "outputId": "ce302f41-1edc-4d92-9292-eb9c92d750a5"
      },
      "execution_count": null,
      "outputs": [
        {
          "output_type": "stream",
          "name": "stdout",
          "text": [
            "+----------+-----------------------------+----+\n",
            "|DOB       |date_format(DOB, yyyy-MMM-dd)|age |\n",
            "+----------+-----------------------------+----+\n",
            "|2004-10-30|2004-Oct-30                  |7282|\n",
            "|2005-06-05|2005-Jun-05                  |7064|\n",
            "|2004-07-17|2004-Jul-17                  |7387|\n",
            "|2004-05-18|2004-May-18                  |7447|\n",
            "|2004-08-07|2004-Aug-07                  |7366|\n",
            "|2002-12-17|2002-Dec-17                  |7965|\n",
            "|2005-04-07|2005-Apr-07                  |7123|\n",
            "|2003-09-05|2003-Sep-05                  |7703|\n",
            "|2004-02-06|2004-Feb-06                  |7549|\n",
            "+----------+-----------------------------+----+\n",
            "\n"
          ]
        }
      ]
    },
    {
      "cell_type": "markdown",
      "source": [
        "4.FIND THE AVERAGE AGE IN THE CLASS"
      ],
      "metadata": {
        "id": "4aizswdzo1Tx"
      }
    },
    {
      "cell_type": "code",
      "source": [
        "from pyspark.sql.functions import avg\n",
        "avg_age = df_with_age.agg(avg(\"age\").alias(\"average_age\"))\n",
        "avg_age.show()"
      ],
      "metadata": {
        "colab": {
          "base_uri": "https://localhost:8080/"
        },
        "id": "5bjEy6X8oe5Z",
        "outputId": "075faf42-6256-463f-8677-5ab82343d96a"
      },
      "execution_count": null,
      "outputs": [
        {
          "output_type": "stream",
          "name": "stdout",
          "text": [
            "+-----------------+\n",
            "|      average_age|\n",
            "+-----------------+\n",
            "|7431.777777777777|\n",
            "+-----------------+\n",
            "\n"
          ]
        }
      ]
    },
    {
      "cell_type": "markdown",
      "source": [
        "5.FIND THE YOUNGER STUDENT IN THE CLASS\n"
      ],
      "metadata": {
        "id": "EzPTfGgjqBfo"
      }
    },
    {
      "cell_type": "code",
      "source": [
        "youngest_person = df_with_age.orderBy(col(\"age\").asc()).limit(1)\n",
        "youngest_person.show(truncate=False)"
      ],
      "metadata": {
        "colab": {
          "base_uri": "https://localhost:8080/"
        },
        "id": "Fq-0p3FCqJFD",
        "outputId": "6275c97b-e877-4b22-e72d-252c3c683e07"
      },
      "execution_count": null,
      "outputs": [
        {
          "output_type": "stream",
          "name": "stdout",
          "text": [
            "+------+----+----------+-----------+---+\n",
            "|ROLLNO|NAME|DOB       |date_column|age|\n",
            "+------+----+----------+-----------+---+\n",
            "|101   |AJAY|2004-10-30|2004-10-30 |19 |\n",
            "+------+----+----------+-----------+---+\n",
            "\n"
          ]
        }
      ]
    },
    {
      "cell_type": "markdown",
      "source": [
        "6.FIND THE ELDER STUDENT IN THE CLASS"
      ],
      "metadata": {
        "id": "Ke9ARBzdqeYZ"
      }
    },
    {
      "cell_type": "code",
      "source": [
        "oldest_person = df_with_age.orderBy(col(\"age\").desc()).limit(1)\n",
        "oldest_person.show(truncate=False)"
      ],
      "metadata": {
        "colab": {
          "base_uri": "https://localhost:8080/"
        },
        "id": "O_FsNI_zqkq-",
        "outputId": "1bca3171-1b16-43d5-8b7f-18c284dabad9"
      },
      "execution_count": null,
      "outputs": [
        {
          "output_type": "stream",
          "name": "stdout",
          "text": [
            "+------+----+----------+-----------+---+\n",
            "|ROLLNO|NAME|DOB       |date_column|age|\n",
            "+------+----+----------+-----------+---+\n",
            "|107   |ARUN|2002-12-17|2002-12-17 |21 |\n",
            "+------+----+----------+-----------+---+\n",
            "\n"
          ]
        }
      ]
    },
    {
      "cell_type": "markdown",
      "source": [
        "7.FIND THE STUDENT WHOSE AGE IS ABOVE AVERAGE"
      ],
      "metadata": {
        "id": "pVNA1nMpq-4B"
      }
    },
    {
      "cell_type": "code",
      "source": [
        "avg_age = df_with_age.select(avg(\"age\")).collect()[0][0]\n",
        "students_above_avg_age = df_with_age.filter(col(\"age\") > avg_age)\n",
        "students_above_avg_age.show(truncate=False)"
      ],
      "metadata": {
        "colab": {
          "base_uri": "https://localhost:8080/"
        },
        "id": "ecw7veuBrIGO",
        "outputId": "1fec1e8a-51e8-4671-ed15-5420e198b558"
      },
      "execution_count": null,
      "outputs": [
        {
          "output_type": "stream",
          "name": "stdout",
          "text": [
            "+------+-------+----------+-----------+---+\n",
            "|ROLLNO|NAME   |DOB       |date_column|age|\n",
            "+------+-------+----------+-----------+---+\n",
            "|103   |ANAS   |2004-07-17|2004-07-17 |20 |\n",
            "|105   |ANIRUDH|2004-05-18|2004-05-18 |20 |\n",
            "|106   |ARAVIND|2004-08-07|2004-08-07 |20 |\n",
            "|107   |ARUN   |2002-12-17|2002-12-17 |21 |\n",
            "|109   |KABILAN|2003-09-05|2003-09-05 |21 |\n",
            "|110   |BABU   |2004-02-06|2004-02-06 |20 |\n",
            "+------+-------+----------+-----------+---+\n",
            "\n"
          ]
        }
      ]
    },
    {
      "cell_type": "markdown",
      "source": [
        "8.FIND THE STUDENT WHOSE AGE IS BELOW AVERAGE"
      ],
      "metadata": {
        "id": "nCZQ26uur1pS"
      }
    },
    {
      "cell_type": "code",
      "source": [
        "avg_age = df_with_age.select(avg(\"age\")).collect()[0][0]\n",
        "students_below_avg_age = df_with_age.filter(col(\"age\") < avg_age)\n",
        "students_below_avg_age.show(truncate=False)"
      ],
      "metadata": {
        "colab": {
          "base_uri": "https://localhost:8080/"
        },
        "id": "1x4JJXywsAiG",
        "outputId": "0e085770-3a59-4c43-c72b-6595c4413d2b"
      },
      "execution_count": null,
      "outputs": [
        {
          "output_type": "stream",
          "name": "stdout",
          "text": [
            "+------+------+----------+-----------+---+\n",
            "|ROLLNO|NAME  |DOB       |date_column|age|\n",
            "+------+------+----------+-----------+---+\n",
            "|101   |AJAY  |2004-10-30|2004-10-30 |19 |\n",
            "|102   |ASWIN |2005-06-05|2005-06-05 |19 |\n",
            "|108   |DHARUN|2005-04-07|2005-04-07 |19 |\n",
            "+------+------+----------+-----------+---+\n",
            "\n"
          ]
        }
      ]
    },
    {
      "cell_type": "markdown",
      "source": [
        "9.FIND THE STUDENTS BORN IN THE MONTH IN BETWEEN JANUARY AND MAY"
      ],
      "metadata": {
        "id": "jgnXAsg1sP4D"
      }
    },
    {
      "cell_type": "code",
      "source": [
        "from pyspark.sql.functions import col, month\n",
        "df_with_month = df_with_date.withColumn(\"month\", month(col(\"dob\")))\n",
        "df_with_month.show(truncate=False)\n",
        "students = df_with_month.filter((col(\"month\") >=1)&(col(\"month\")<=5))\n",
        "students.show(truncate=False)"
      ],
      "metadata": {
        "colab": {
          "base_uri": "https://localhost:8080/"
        },
        "id": "NlcY_XboswT8",
        "outputId": "78b39b87-ae2e-4fe8-8d76-aada346b64a0"
      },
      "execution_count": null,
      "outputs": [
        {
          "output_type": "stream",
          "name": "stdout",
          "text": [
            "+----------+-----------------------------+-----+\n",
            "|DOB       |date_format(DOB, yyyy-MMM-dd)|month|\n",
            "+----------+-----------------------------+-----+\n",
            "|2004-10-30|2004-Oct-30                  |10   |\n",
            "|2005-06-05|2005-Jun-05                  |6    |\n",
            "|2004-07-17|2004-Jul-17                  |7    |\n",
            "|2004-05-18|2004-May-18                  |5    |\n",
            "|2004-08-07|2004-Aug-07                  |8    |\n",
            "|2002-12-17|2002-Dec-17                  |12   |\n",
            "|2005-04-07|2005-Apr-07                  |4    |\n",
            "|2003-09-05|2003-Sep-05                  |9    |\n",
            "|2004-02-06|2004-Feb-06                  |2    |\n",
            "+----------+-----------------------------+-----+\n",
            "\n",
            "+----------+-----------------------------+-----+\n",
            "|DOB       |date_format(DOB, yyyy-MMM-dd)|month|\n",
            "+----------+-----------------------------+-----+\n",
            "|2004-05-18|2004-May-18                  |5    |\n",
            "|2005-04-07|2005-Apr-07                  |4    |\n",
            "|2004-02-06|2004-Feb-06                  |2    |\n",
            "+----------+-----------------------------+-----+\n",
            "\n"
          ]
        }
      ]
    },
    {
      "cell_type": "code",
      "source": [],
      "metadata": {
        "id": "-tzbTp_RiyAx"
      },
      "execution_count": null,
      "outputs": []
    },
    {
      "cell_type": "markdown",
      "source": [],
      "metadata": {
        "id": "fYLTV3Kbi-h1"
      }
    }
  ]
}