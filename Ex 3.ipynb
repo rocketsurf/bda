{
  "cells": [
    {
      "cell_type": "code",
      "execution_count": null,
      "metadata": {
        "id": "ZmM4GRp6i7lg"
      },
      "outputs": [],
      "source": [
        "from pyspark.sql import SparkSession\n",
        "spark=SparkSession.builder.master(\"local[4]\").getOrCreate()\n"
      ]
    },
    {
      "cell_type": "code",
      "execution_count": null,
      "metadata": {
        "id": "LAAwmAk6i-D4"
      },
      "outputs": [],
      "source": [
        "from pyspark.sql import SparkSession\n",
        "\n",
        "spark = SparkSession.builder .appName(\"CSV to RDD\") .getOrCreate()\n"
      ]
    },
    {
      "cell_type": "code",
      "execution_count": null,
      "metadata": {
        "id": "C_i6gbl4npoq"
      },
      "outputs": [],
      "source": [
        "df1 = spark.read.csv(\"/content/drive/MyDrive/BDA/E1.csv\", header=True, inferSchema=True)\n"
      ]
    },
    {
      "cell_type": "code",
      "execution_count": null,
      "metadata": {
        "colab": {
          "base_uri": "https://localhost:8080/"
        },
        "id": "iV6dUdhloTYB",
        "outputId": "d5cc304b-537e-44de-d3c7-6dff219c146d"
      },
      "outputs": [
        {
          "name": "stdout",
          "output_type": "stream",
          "text": [
            "+---+----+---------+\n",
            "| ID|NAME|TOT_MARKS|\n",
            "+---+----+---------+\n",
            "|  1|   A|       99|\n",
            "|  2|   B|       98|\n",
            "|  3|   C|       80|\n",
            "|  4|   D|       75|\n",
            "|  5|   E|       93|\n",
            "+---+----+---------+\n",
            "\n"
          ]
        }
      ],
      "source": [
        "df1.show()"
      ]
    },
    {
      "cell_type": "code",
      "execution_count": null,
      "metadata": {
        "id": "cfbWoWjhob7M"
      },
      "outputs": [],
      "source": [
        "df2 = spark.read.csv(\"/content/drive/MyDrive/BDA/E2.csv\", header=True, inferSchema=True)"
      ]
    },
    {
      "cell_type": "code",
      "execution_count": null,
      "metadata": {
        "colab": {
          "base_uri": "https://localhost:8080/"
        },
        "id": "keMjYfG-u6VY",
        "outputId": "975788c0-08cf-4ed6-a1c9-e725ceafb724"
      },
      "outputs": [
        {
          "name": "stdout",
          "output_type": "stream",
          "text": [
            "+---+----+---------+\n",
            "| ID|NAME|TOT_MARKS|\n",
            "+---+----+---------+\n",
            "|  6|   F|       87|\n",
            "|  7|   G|       95|\n",
            "|  8|   H|       93|\n",
            "|  9|   I|       78|\n",
            "| 10|   J|       89|\n",
            "+---+----+---------+\n",
            "\n"
          ]
        }
      ],
      "source": [
        "df2.show()"
      ]
    },
    {
      "cell_type": "code",
      "execution_count": null,
      "metadata": {
        "id": "mDjHEAkbu8Qw"
      },
      "outputs": [],
      "source": [
        "df3 = spark.read.csv(\"/content/drive/MyDrive/BDA/E3.csv\", header=True, inferSchema=True)"
      ]
    },
    {
      "cell_type": "code",
      "execution_count": null,
      "metadata": {
        "colab": {
          "base_uri": "https://localhost:8080/"
        },
        "id": "3t6laI90vCh_",
        "outputId": "2a474c84-9a23-4986-d77e-828847ad4da4"
      },
      "outputs": [
        {
          "name": "stdout",
          "output_type": "stream",
          "text": [
            "+---+----+---------+\n",
            "| ID|NAME|TOT_MARKS|\n",
            "+---+----+---------+\n",
            "| 11|   P|       77|\n",
            "| 12|   Q|       97|\n",
            "| 13|   R|       90|\n",
            "| 14|   S|       81|\n",
            "| 15|   T|       76|\n",
            "+---+----+---------+\n",
            "\n"
          ]
        }
      ],
      "source": [
        "df3.show()"
      ]
    },
    {
      "cell_type": "code",
      "execution_count": null,
      "metadata": {
        "colab": {
          "base_uri": "https://localhost:8080/"
        },
        "id": "RUeqhWMBvETb",
        "outputId": "25f2ad2c-82bc-47cc-c9eb-1bd4f40645e6"
      },
      "outputs": [
        {
          "name": "stdout",
          "output_type": "stream",
          "text": [
            "+---+----+---------+\n",
            "| ID|NAME|TOT_MARKS|\n",
            "+---+----+---------+\n",
            "|  1|   A|       99|\n",
            "|  2|   B|       98|\n",
            "|  3|   C|       80|\n",
            "|  4|   D|       75|\n",
            "|  5|   E|       93|\n",
            "|  6|   F|       87|\n",
            "|  7|   G|       95|\n",
            "|  8|   H|       93|\n",
            "|  9|   I|       78|\n",
            "| 10|   J|       89|\n",
            "| 11|   P|       77|\n",
            "| 12|   Q|       97|\n",
            "| 13|   R|       90|\n",
            "| 14|   S|       81|\n",
            "| 15|   T|       76|\n",
            "+---+----+---------+\n",
            "\n"
          ]
        }
      ],
      "source": [
        "df = df1.union(df2).union(df3)\n",
        "df.show()\n"
      ]
    },
    {
      "cell_type": "markdown",
      "metadata": {
        "id": "lIO-WjiB2Pj5"
      },
      "source": [
        "Dataframe creation\n"
      ]
    },
    {
      "cell_type": "code",
      "execution_count": null,
      "metadata": {
        "id": "CouPH3-svngP"
      },
      "outputs": [],
      "source": [
        "data=[(\"Arun\",19),(\"Balaji\",18),(\"Harshini\",19),(\"Aiswarya\",19),(\"Deva\",18),(\"Jai\",17),(\"Prakathi\",17),(\"Maha\",20),(\"Preetha\",19),(\"Karthi\",20)]\n",
        "cols=[\"Name\",\"Age\"]"
      ]
    },
    {
      "cell_type": "code",
      "execution_count": null,
      "metadata": {
        "id": "TibVjmIV3Rf4"
      },
      "outputs": [],
      "source": [
        "rdd=spark.sparkContext.parallelize(data)"
      ]
    },
    {
      "cell_type": "markdown",
      "metadata": {
        "id": "khvLYwBK3cRS"
      },
      "source": [
        "DF creation using toDF()\n"
      ]
    },
    {
      "cell_type": "code",
      "execution_count": null,
      "metadata": {
        "colab": {
          "base_uri": "https://localhost:8080/"
        },
        "id": "dc2g6CAL3YuP",
        "outputId": "02a4ae79-cf62-4564-8dce-a5bec397a04b"
      },
      "outputs": [
        {
          "name": "stdout",
          "output_type": "stream",
          "text": [
            "+--------+---+\n",
            "|    Name|Age|\n",
            "+--------+---+\n",
            "|    Arun| 19|\n",
            "|  Balaji| 18|\n",
            "|Harshini| 19|\n",
            "|Aiswarya| 19|\n",
            "|    Deva| 18|\n",
            "|     Jai| 17|\n",
            "|Prakathi| 17|\n",
            "|    Maha| 20|\n",
            "| Preetha| 19|\n",
            "|  Karthi| 20|\n",
            "+--------+---+\n",
            "\n",
            "root\n",
            " |-- Name: string (nullable = true)\n",
            " |-- Age: long (nullable = true)\n",
            "\n"
          ]
        }
      ],
      "source": [
        "df=rdd.toDF(cols)\n",
        "df.show()\n",
        "df.printSchema()"
      ]
    },
    {
      "cell_type": "markdown",
      "metadata": {
        "id": "hKXW3aOc3xFh"
      },
      "source": [
        "Using createDataFrame()"
      ]
    },
    {
      "cell_type": "code",
      "execution_count": null,
      "metadata": {
        "colab": {
          "base_uri": "https://localhost:8080/"
        },
        "id": "bshF63dW3m2_",
        "outputId": "18d22f97-ef2b-49ee-8aa3-ce170160698d"
      },
      "outputs": [
        {
          "name": "stdout",
          "output_type": "stream",
          "text": [
            "+--------+---+\n",
            "|    Name|Age|\n",
            "+--------+---+\n",
            "|    Arun| 19|\n",
            "|  Balaji| 18|\n",
            "|Harshini| 19|\n",
            "|Aiswarya| 19|\n",
            "|    Deva| 18|\n",
            "|     Jai| 17|\n",
            "|Prakathi| 17|\n",
            "|    Maha| 20|\n",
            "| Preetha| 19|\n",
            "|  Karthi| 20|\n",
            "+--------+---+\n",
            "\n"
          ]
        }
      ],
      "source": [
        "df1=spark.createDataFrame(rdd).toDF(*cols)\n",
        "df1.show()"
      ]
    },
    {
      "cell_type": "markdown",
      "metadata": {
        "id": "2FRfwx664IPC"
      },
      "source": [
        "Using list"
      ]
    },
    {
      "cell_type": "code",
      "execution_count": null,
      "metadata": {
        "colab": {
          "base_uri": "https://localhost:8080/"
        },
        "id": "Wn-tYl-S4EBg",
        "outputId": "38e28f6a-36cf-4e05-dc47-5a12733ec06f"
      },
      "outputs": [
        {
          "name": "stdout",
          "output_type": "stream",
          "text": [
            "+--------+---+\n",
            "|    Name|Age|\n",
            "+--------+---+\n",
            "|    Arun| 19|\n",
            "|  Balaji| 18|\n",
            "|Harshini| 19|\n",
            "|Aiswarya| 19|\n",
            "|    Deva| 18|\n",
            "|     Jai| 17|\n",
            "|Prakathi| 17|\n",
            "|    Maha| 20|\n",
            "| Preetha| 19|\n",
            "|  Karthi| 20|\n",
            "+--------+---+\n",
            "\n",
            "+---+\n",
            "|Age|\n",
            "+---+\n",
            "| 19|\n",
            "| 18|\n",
            "| 19|\n",
            "| 19|\n",
            "| 18|\n",
            "| 17|\n",
            "| 17|\n",
            "| 20|\n",
            "| 19|\n",
            "| 20|\n",
            "+---+\n",
            "\n"
          ]
        }
      ],
      "source": [
        "df3=spark.createDataFrame(data,cols)\n",
        "df3.show()\n",
        "df3.select(\"Age\").show()"
      ]
    },
    {
      "cell_type": "markdown",
      "metadata": {
        "id": "4iEEfYF141tB"
      },
      "source": [
        "Using Data sources"
      ]
    },
    {
      "cell_type": "code",
      "execution_count": null,
      "metadata": {
        "colab": {
          "base_uri": "https://localhost:8080/"
        },
        "id": "1bG1B8nP4tKH",
        "outputId": "f8fe1c05-01f9-4bf5-b79d-b4b1f0e28ae9"
      },
      "outputs": [
        {
          "name": "stdout",
          "output_type": "stream",
          "text": [
            "+---+----+---------+\n",
            "| ID|NAME|TOT_MARKS|\n",
            "+---+----+---------+\n",
            "|  1|   A|       99|\n",
            "|  2|   B|       98|\n",
            "|  3|   C|       80|\n",
            "|  4|   D|       75|\n",
            "|  5|   E|       93|\n",
            "+---+----+---------+\n",
            "\n"
          ]
        }
      ],
      "source": [
        "df4= spark.read.csv(\"/content/drive/MyDrive/BDA/E1.csv\" ,header=True)\n",
        "df4.show()"
      ]
    },
    {
      "cell_type": "code",
      "execution_count": null,
      "metadata": {
        "colab": {
          "base_uri": "https://localhost:8080/"
        },
        "id": "AKRD7OXv5LgA",
        "outputId": "36df8b3a-58e9-466f-c394-e45cb2a58f83"
      },
      "outputs": [
        {
          "name": "stdout",
          "output_type": "stream",
          "text": [
            "+----+\n",
            "|NAME|\n",
            "+----+\n",
            "|   A|\n",
            "|   B|\n",
            "|   C|\n",
            "|   D|\n",
            "|   E|\n",
            "+----+\n",
            "\n"
          ]
        }
      ],
      "source": [
        "df4.select(\"NAME\").show()"
      ]
    },
    {
      "cell_type": "markdown",
      "metadata": {
        "id": "TuvGMtIunIcS"
      },
      "source": [
        "DATAFRAME OPERATIONS\n"
      ]
    },
    {
      "cell_type": "code",
      "execution_count": null,
      "metadata": {
        "colab": {
          "base_uri": "https://localhost:8080/"
        },
        "id": "0VIsgNEj9xP6",
        "outputId": "06e904b7-6162-4a71-ae7c-9a0fcc9ad8d5"
      },
      "outputs": [
        {
          "name": "stdout",
          "output_type": "stream",
          "text": [
            "+--------+---+------+-----+\n",
            "|    Name|Age|Branch|Marks|\n",
            "+--------+---+------+-----+\n",
            "|    Arun| 19|  AIDS|   80|\n",
            "|  Balaji| 18|   CSE|   98|\n",
            "|Harshini| 19|  AIDS|   95|\n",
            "|Aiswarya| 19|  AIML|   97|\n",
            "|    Deva| 18|   ECE|   96|\n",
            "|     Jai| 17|    IT|   85|\n",
            "|Prakathi| 17|   EEE|   89|\n",
            "|    Maha| 20|    FT|   75|\n",
            "| Preetha| 19|  MECH|   80|\n",
            "|  Karthi| 20|   CSE|   90|\n",
            "+--------+---+------+-----+\n",
            "\n"
          ]
        }
      ],
      "source": [
        "data=[(\"Arun\",19,\"AIDS\",80),(\"Balaji\",18,\"CSE\",98),(\"Harshini\",19,\"AIDS\",95),(\"Aiswarya\",19,\"AIML\",97),(\"Deva\",18,\"ECE\",96),(\"Jai\",17,\"IT\",85),(\"Prakathi\",17,\"EEE\",89),(\"Maha\",20,\"FT\",75),(\"Preetha\",19,\"MECH\",80),(\"Karthi\",20,\"CSE\",90)]\n",
        "cols=[\"Name\",\"Age\",\"Branch\",\"Marks\"]\n",
        "rdd=spark.sparkContext.parallelize(data)\n",
        "dff=rdd.toDF(cols)\n",
        "dff.show()"
      ]
    },
    {
      "cell_type": "code",
      "execution_count": null,
      "metadata": {
        "colab": {
          "base_uri": "https://localhost:8080/"
        },
        "id": "1oX9WLLM7vvq",
        "outputId": "2be68688-0ed3-4998-ea96-21be6b77bcf3"
      },
      "outputs": [
        {
          "name": "stdout",
          "output_type": "stream",
          "text": [
            "+--------+---+------+-----+\n",
            "|    Name|Age|Branch|Marks|\n",
            "+--------+---+------+-----+\n",
            "|    Arun| 19|  AIDS|   80|\n",
            "|  Balaji| 18|   CSE|   98|\n",
            "|Harshini| 19|  AIDS|   95|\n",
            "|Aiswarya| 19|  AIML|   97|\n",
            "|    Deva| 18|   ECE|   96|\n",
            "|     Jai| 17|    IT|   85|\n",
            "|Prakathi| 17|   EEE|   89|\n",
            "|    Maha| 20|    FT|   75|\n",
            "| Preetha| 19|  MECH|   80|\n",
            "|  Karthi| 20|   CSE|   90|\n",
            "+--------+---+------+-----+\n",
            "\n"
          ]
        }
      ],
      "source": [
        "dff.select(*cols).show()"
      ]
    },
    {
      "cell_type": "code",
      "execution_count": null,
      "metadata": {
        "colab": {
          "base_uri": "https://localhost:8080/"
        },
        "id": "EXgAuOKNoFnI",
        "outputId": "f4dbbc3e-a55e-44c5-8204-cad48b13ac41"
      },
      "outputs": [
        {
          "name": "stdout",
          "output_type": "stream",
          "text": [
            "+------+---+------+-----+\n",
            "|  Name|Age|Branch|Marks|\n",
            "+------+---+------+-----+\n",
            "|Balaji| 18|   CSE|   98|\n",
            "|Karthi| 20|   CSE|   90|\n",
            "+------+---+------+-----+\n",
            "\n"
          ]
        }
      ],
      "source": [
        "dff.filter(dff.Branch==\"CSE\").show()"
      ]
    },
    {
      "cell_type": "code",
      "execution_count": null,
      "metadata": {
        "colab": {
          "base_uri": "https://localhost:8080/"
        },
        "id": "NwEsCSPUo6iP",
        "outputId": "932c3a1b-0887-495a-c358-2996ae91d366"
      },
      "outputs": [
        {
          "name": "stdout",
          "output_type": "stream",
          "text": [
            "+--------+---+------+-----+\n",
            "|    Name|Age|Branch|Marks|\n",
            "+--------+---+------+-----+\n",
            "|    Arun| 19|  AIDS|   80|\n",
            "|Aiswarya| 19|  AIML|   97|\n",
            "+--------+---+------+-----+\n",
            "\n"
          ]
        }
      ],
      "source": [
        "dff.filter(dff.Name.startswith(\"A\")).show()"
      ]
    },
    {
      "cell_type": "code",
      "execution_count": null,
      "metadata": {
        "colab": {
          "base_uri": "https://localhost:8080/"
        },
        "id": "Ra4MIhxrpdHX",
        "outputId": "c039bd02-7011-4c65-faf3-3fd2d9a06aff"
      },
      "outputs": [
        {
          "name": "stdout",
          "output_type": "stream",
          "text": [
            "+----+---+------+-----+\n",
            "|Name|Age|Branch|Marks|\n",
            "+----+---+------+-----+\n",
            "| Jai| 17|    IT|   85|\n",
            "+----+---+------+-----+\n",
            "\n"
          ]
        }
      ],
      "source": [
        "dff.filter(dff.Name.contains(\"ai\")).show()"
      ]
    },
    {
      "cell_type": "code",
      "execution_count": null,
      "metadata": {
        "colab": {
          "base_uri": "https://localhost:8080/"
        },
        "id": "fvYn7Go0ppQm",
        "outputId": "3baf2752-42a2-4e0e-a78d-9b419b90e45f"
      },
      "outputs": [
        {
          "name": "stdout",
          "output_type": "stream",
          "text": [
            "+--------+---+------+-----+\n",
            "|    Name|Age|Branch|Marks|\n",
            "+--------+---+------+-----+\n",
            "|    Arun| 19|  AIDS|   80|\n",
            "|Harshini| 19|  AIDS|   95|\n",
            "|Aiswarya| 19|  AIML|   97|\n",
            "+--------+---+------+-----+\n",
            "\n"
          ]
        }
      ],
      "source": [
        "list=[\"AIDS\",\"AIML\"]\n",
        "dff.filter(dff.Branch.isin(list)).show()"
      ]
    },
    {
      "cell_type": "code",
      "execution_count": null,
      "metadata": {
        "colab": {
          "base_uri": "https://localhost:8080/"
        },
        "id": "L7PdfS6_p2lv",
        "outputId": "be673d60-ef8f-47a1-e3c8-8cb33d729b91"
      },
      "outputs": [
        {
          "name": "stdout",
          "output_type": "stream",
          "text": [
            "+--------+---+------+-----+\n",
            "|    Name|Age|Branch|Marks|\n",
            "+--------+---+------+-----+\n",
            "|Aiswarya| 19|  AIML|   97|\n",
            "|    Arun| 19|  AIDS|   80|\n",
            "|  Balaji| 18|   CSE|   98|\n",
            "|    Deva| 18|   ECE|   96|\n",
            "|Harshini| 19|  AIDS|   95|\n",
            "|     Jai| 17|    IT|   85|\n",
            "|  Karthi| 20|   CSE|   90|\n",
            "|    Maha| 20|    FT|   75|\n",
            "|Prakathi| 17|   EEE|   89|\n",
            "| Preetha| 19|  MECH|   80|\n",
            "+--------+---+------+-----+\n",
            "\n"
          ]
        }
      ],
      "source": [
        "dff.sort(dff.Name).show()"
      ]
    },
    {
      "cell_type": "code",
      "execution_count": null,
      "metadata": {
        "colab": {
          "base_uri": "https://localhost:8080/"
        },
        "id": "2iU_kV3mp_RW",
        "outputId": "ac30c10a-2d99-49bd-cbce-6a70ab0462c6"
      },
      "outputs": [
        {
          "name": "stdout",
          "output_type": "stream",
          "text": [
            "+--------+---+------+-----+\n",
            "|    Name|Age|Branch|Marks|\n",
            "+--------+---+------+-----+\n",
            "| Preetha| 19|  MECH|   80|\n",
            "|Prakathi| 17|   EEE|   89|\n",
            "|    Maha| 20|    FT|   75|\n",
            "|  Karthi| 20|   CSE|   90|\n",
            "|     Jai| 17|    IT|   85|\n",
            "|Harshini| 19|  AIDS|   95|\n",
            "|    Deva| 18|   ECE|   96|\n",
            "|  Balaji| 18|   CSE|   98|\n",
            "|    Arun| 19|  AIDS|   80|\n",
            "|Aiswarya| 19|  AIML|   97|\n",
            "+--------+---+------+-----+\n",
            "\n"
          ]
        }
      ],
      "source": [
        "dff.sort(dff.Name.desc()).show()"
      ]
    },
    {
      "cell_type": "code",
      "execution_count": null,
      "metadata": {
        "colab": {
          "base_uri": "https://localhost:8080/"
        },
        "id": "OqXlxt0oqg2f",
        "outputId": "9f706ddd-1cdc-4942-d931-c67ea1af88f2"
      },
      "outputs": [
        {
          "name": "stdout",
          "output_type": "stream",
          "text": [
            "+--------+---+------+-----+\n",
            "|    Name|Age|Branch|Marks|\n",
            "+--------+---+------+-----+\n",
            "|Aiswarya| 19|  AIML|   97|\n",
            "|    Arun| 19|  AIDS|   80|\n",
            "|  Balaji| 18|   CSE|   98|\n",
            "|    Deva| 18|   ECE|   96|\n",
            "|Harshini| 19|  AIDS|   95|\n",
            "|     Jai| 17|    IT|   85|\n",
            "|  Karthi| 20|   CSE|   90|\n",
            "|    Maha| 20|    FT|   75|\n",
            "|Prakathi| 17|   EEE|   89|\n",
            "| Preetha| 19|  MECH|   80|\n",
            "+--------+---+------+-----+\n",
            "\n"
          ]
        }
      ],
      "source": [
        "dff.sort(dff.Name,dff.Branch).show()"
      ]
    },
    {
      "cell_type": "code",
      "execution_count": null,
      "metadata": {
        "colab": {
          "base_uri": "https://localhost:8080/"
        },
        "id": "42PlN8qjsR5c",
        "outputId": "3c90e85a-de02-4f80-d538-43b492d05add"
      },
      "outputs": [
        {
          "name": "stdout",
          "output_type": "stream",
          "text": [
            "+--------+---+------+-----+\n",
            "|    Name|Age|Branch|Marks|\n",
            "+--------+---+------+-----+\n",
            "|Harshini| 19|  AIDS|   95|\n",
            "|    Arun| 19|  AIDS|   80|\n",
            "|Aiswarya| 19|  AIML|   97|\n",
            "|  Karthi| 20|   CSE|   90|\n",
            "|  Balaji| 18|   CSE|   98|\n",
            "|    Deva| 18|   ECE|   96|\n",
            "|Prakathi| 17|   EEE|   89|\n",
            "|    Maha| 20|    FT|   75|\n",
            "|     Jai| 17|    IT|   85|\n",
            "| Preetha| 19|  MECH|   80|\n",
            "+--------+---+------+-----+\n",
            "\n"
          ]
        }
      ],
      "source": [
        "dff.sort(dff.Branch).show()"
      ]
    },
    {
      "cell_type": "code",
      "execution_count": null,
      "metadata": {
        "colab": {
          "base_uri": "https://localhost:8080/"
        },
        "id": "0ZRou4YVqDA_",
        "outputId": "5a814f67-0288-4827-bc2a-737fae063833"
      },
      "outputs": [
        {
          "name": "stdout",
          "output_type": "stream",
          "text": [
            "+------+-----+\n",
            "|Branch|count|\n",
            "+------+-----+\n",
            "|    FT|    1|\n",
            "|  AIML|    1|\n",
            "|   ECE|    1|\n",
            "|  AIDS|    2|\n",
            "|    IT|    1|\n",
            "|   CSE|    2|\n",
            "|   EEE|    1|\n",
            "|  MECH|    1|\n",
            "+------+-----+\n",
            "\n"
          ]
        }
      ],
      "source": [
        "dff.groupBy(dff.Branch).count().show()"
      ]
    },
    {
      "cell_type": "code",
      "execution_count": null,
      "metadata": {
        "colab": {
          "base_uri": "https://localhost:8080/"
        },
        "id": "ncbmufWdqYL3",
        "outputId": "08d2c41b-07a6-43bc-db1e-90029c9e4d23"
      },
      "outputs": [
        {
          "name": "stdout",
          "output_type": "stream",
          "text": [
            "+------+--------+----------+\n",
            "|Branch|min(Age)|min(Marks)|\n",
            "+------+--------+----------+\n",
            "|    FT|      20|        75|\n",
            "|  AIML|      19|        97|\n",
            "|   ECE|      18|        96|\n",
            "|  AIDS|      19|        80|\n",
            "|    IT|      17|        85|\n",
            "|   CSE|      18|        90|\n",
            "|   EEE|      17|        89|\n",
            "|  MECH|      19|        80|\n",
            "+------+--------+----------+\n",
            "\n"
          ]
        }
      ],
      "source": [
        "dff.groupBy(dff.Branch).min().show()"
      ]
    },
    {
      "cell_type": "markdown",
      "metadata": {
        "id": "HZ8THBvvu9_q"
      },
      "source": [
        "Dataframe opertaions from different sources\n"
      ]
    },
    {
      "cell_type": "code",
      "execution_count": null,
      "metadata": {
        "colab": {
          "base_uri": "https://localhost:8080/"
        },
        "id": "SgCFcqZFsX5p",
        "outputId": "2d303c19-9a82-47a3-8c9d-2cce7070c14b"
      },
      "outputs": [
        {
          "output_type": "stream",
          "name": "stdout",
          "text": [
            "+--------+------------+------+-------+---+---+---+\n",
            "| ROLL NO|        NAME|BRANCH|SECTION|BDA| DA|IVA|\n",
            "+--------+------------+------+-------+---+---+---+\n",
            "|22ADR003|   AISWARYA |  AIDS|      A| 80| 90| 86|\n",
            "|22ADR016|       DEVA |  AIDS|      A| 78| 84| 80|\n",
            "|22ADR034|   HARSHINI |  AIDS|      A| 80| 80| 84|\n",
            "|22ADR033|HARIPREETHA |  AIDS|      A| 82| 82| 86|\n",
            "|22ADR015|DEVABRINDHA |  AIDS|      A| 76| 80| 82|\n",
            "+--------+------------+------+-------+---+---+---+\n",
            "\n"
          ]
        }
      ],
      "source": [
        "dff1= spark.read.csv(\"/content/drive/MyDrive/BDA/AIDS A.csv\" ,header=True)\n",
        "dff1.show()"
      ]
    },
    {
      "cell_type": "code",
      "execution_count": null,
      "metadata": {
        "colab": {
          "base_uri": "https://localhost:8080/"
        },
        "id": "URS4PkgAs5iA",
        "outputId": "a523f3a0-62bc-4eb2-8c56-ec3fbffbe468"
      },
      "outputs": [
        {
          "output_type": "stream",
          "name": "stdout",
          "text": [
            "+---------+-----------+-------------+--------------+--------+-------+-----+\n",
            "|ROLL NO  |    NAME   |       BRANCH|      SECTION |  BDA   | DA    |  IVA|\n",
            "+---------+-----------+-------------+--------------+--------+-------+-----+\n",
            "|22ADR002 |   SANJAY  |       AIDS  |          B   |    84  |  90   |   80|\n",
            "|22ADR084 |  PRAKATHI |     AIDS    |         B    |    80  |  88   |   90|\n",
            "|22ADR100 |   SAMAIRA |      AIDS   |          B   |     90 |   92  |  94 |\n",
            "|22ADR005 |  AKIRA    |     AIDS    |          B   |     88 |   86  |  92 |\n",
            "|22ADR055 |  KISHORE  |     AIDS    |          B   |     75 |  77   |  80 |\n",
            "+---------+-----------+-------------+--------------+--------+-------+-----+\n",
            "\n"
          ]
        }
      ],
      "source": [
        "dff2= spark.read.csv(\"/content/drive/MyDrive/BDA/AIDS B.txt\",header=True,sep=',' )\n",
        "dff2.show(truncate=False)"
      ]
    },
    {
      "cell_type": "code",
      "execution_count": null,
      "metadata": {
        "colab": {
          "base_uri": "https://localhost:8080/"
        },
        "id": "v1JnCJ2a0eEi",
        "outputId": "116c72d4-583d-4bbb-d5eb-328d3cbb8589"
      },
      "outputs": [
        {
          "output_type": "stream",
          "name": "stdout",
          "text": [
            "+--------+---------+------+-------+---+---+---+\n",
            "| ROLL NO|     NAME|BRANCH|SECTION|BDA| DA|IVA|\n",
            "+--------+---------+------+-------+---+---+---+\n",
            "|22ALR073| KUMUDHA |  AIML|      A| 88| 90| 98|\n",
            "|22ALR089| MADAVAN |  AIML|      A| 80| 78| 70|\n",
            "|22ALR091|NANDHINI |  AIML|      A| 89| 76| 90|\n",
            "|22ALR077|  SATHYA |  AIML|      A| 90| 94| 90|\n",
            "|22ALR097|   THIRU |  AIML|      A| 78| 76| 80|\n",
            "+--------+---------+------+-------+---+---+---+\n",
            "\n"
          ]
        }
      ],
      "source": [
        "dt=[\n",
        "{\n",
        "   \"ROLL NO\":\"22ALR073\",\n",
        "   \"NAME\":\"KUMUDHA \",\n",
        "   \"BRANCH\":\"AIML\",\n",
        "    \"SECTION\":\"A\",\n",
        "   \"BDA\":88,\n",
        "   \"DA\":90,\n",
        "   \"IVA\":98\n",
        "},\n",
        "{\n",
        "   \"ROLL NO\":\"22ALR089\",\n",
        "   \"NAME\":\"MADAVAN \",\n",
        "   \"BRANCH\":\"AIML\",\n",
        "    \"SECTION\":\"A\",\n",
        "   \"BDA\":80,\n",
        "   \"DA\":78,\n",
        "   \"IVA\":70\n",
        "},\n",
        "{\n",
        "    \"ROLL NO\":\"22ALR091\",\n",
        "   \"NAME\":\"NANDHINI \",\n",
        "   \"BRANCH\":\"AIML\",\n",
        "    \"SECTION\":\"A\",\n",
        "   \"BDA\":89,\n",
        "   \"DA\":76,\n",
        "   \"IVA\":90\n",
        "},\n",
        "{\n",
        "     \"ROLL NO\":\"22ALR077\",\n",
        "   \"NAME\":\"SATHYA \",\n",
        "   \"BRANCH\":\"AIML\",\n",
        "    \"SECTION\":\"A\",\n",
        "   \"BDA\":90,\n",
        "   \"DA\":94,\n",
        "   \"IVA\":90\n",
        "},\n",
        "{\n",
        "    \"ROLL NO\":\"22ALR097\",\n",
        "   \"NAME\":\"THIRU \",\n",
        "  \"BRANCH\":\"AIML\",\n",
        "    \"SECTION\":\"A\",\n",
        "   \"BDA\":78,\n",
        "   \"DA\":76,\n",
        "   \"IVA\":80\n",
        "}\n",
        "]\n",
        "dff3 = spark.createDataFrame(dt)\n",
        "dff3 = dff3.select(\"ROLL NO\", \"NAME\", \"BRANCH\", \"SECTION\", \"BDA\", \"DA\", \"IVA\")\n",
        "dff3.show()"
      ]
    },
    {
      "cell_type": "code",
      "execution_count": null,
      "metadata": {
        "colab": {
          "base_uri": "https://localhost:8080/"
        },
        "id": "EIbIH1zsTODo",
        "outputId": "46aebd9a-a6f3-40b6-ee5a-e4e22932a807"
      },
      "outputs": [
        {
          "output_type": "stream",
          "name": "stdout",
          "text": [
            "+--------+---------+------+-------+---+---+---+\n",
            "| Roll No|     Name|Branch|Section|BDA| DA|IVA|\n",
            "+--------+---------+------+-------+---+---+---+\n",
            "|22ALR066|    ARUN |  AIML|      B| 80| 67| 89|\n",
            "|22ALR192|    BALA |  AIML|      B| 89| 76| 90|\n",
            "|22ALR073|     SAM |  AIML|      B| 88| 97| 99|\n",
            "|22ALR099|NANDHINI |  AIML|      B| 90| 87| 89|\n",
            "|22ALR120| KEERTHI |  AIML|      B| 88| 90| 89|\n",
            "+--------+---------+------+-------+---+---+---+\n",
            "\n"
          ]
        }
      ],
      "source": [
        "da=[(\"22ALR066\",\"ARUN \",\"AIML\",\"B\",80,67,89),(\"22ALR192\",\"BALA \",\"AIML\",\"B\",89,76,90),(\"22ALR073\",\"SAM \",\"AIML\",\"B\",88,97,99),(\"22ALR099\",\"NANDHINI \",\"AIML\",\"B\",90,87,89),(\"22ALR120\",\"KEERTHI \",\"AIML\",\"B\",88,90,89)]\n",
        "cols1=[\"Roll No\",\"Name\",\"Branch\",\"Section\",\"BDA\",\"DA\",\"IVA\"]\n",
        "rdd=spark.sparkContext.parallelize(da)\n",
        "dff4=rdd.toDF(cols1)\n",
        "dff4.show()"
      ]
    },
    {
      "cell_type": "code",
      "execution_count": null,
      "metadata": {
        "colab": {
          "base_uri": "https://localhost:8080/"
        },
        "id": "ZCdFDpaxocGP",
        "outputId": "0a33f254-89b7-42ff-c482-0ea627e1aaed"
      },
      "outputs": [
        {
          "output_type": "stream",
          "name": "stdout",
          "text": [
            "+---------+------------+-----------+-------------+--------+-------+-----+\n",
            "|  ROLL NO|        NAME|     BRANCH|      SECTION|     BDA|     DA|  IVA|\n",
            "+---------+------------+-----------+-------------+--------+-------+-----+\n",
            "| 22ADR003|   AISWARYA |       AIDS|            A|      80|     90|   86|\n",
            "| 22ADR016|       DEVA |       AIDS|            A|      78|     84|   80|\n",
            "| 22ADR034|   HARSHINI |       AIDS|            A|      80|     80|   84|\n",
            "| 22ADR033|HARIPREETHA |       AIDS|            A|      82|     82|   86|\n",
            "| 22ADR015|DEVABRINDHA |       AIDS|            A|      76|     80|   82|\n",
            "| 22ADR002|     SANJAY |       AIDS|          B  |     84 |    90 |   80|\n",
            "| 22ADR084|   PRAKATHI |      AIDS |          B  |     80 |    88 |   90|\n",
            "| 22ADR100|    SAMAIRA |       AIDS|           B |      90|   92  |   94|\n",
            "|22ADR005 |    AKIRA   |       AIDS|           B |      88|   86  |   92|\n",
            "|22ADR055 |   KISHORE  |       AIDS|           B |     75 |   77  |   80|\n",
            "| 22ALR073|    KUMUDHA |       AIML|            A|      88|     90|   98|\n",
            "| 22ALR089|    MADAVAN |       AIML|            A|      80|     78|   70|\n",
            "| 22ALR091|   NANDHINI |       AIML|            A|      89|     76|   90|\n",
            "| 22ALR077|     SATHYA |       AIML|            A|      90|     94|   90|\n",
            "| 22ALR097|      THIRU |       AIML|            A|      78|     76|   80|\n",
            "| 22ALR066|       ARUN |       AIML|            B|      80|     67|   89|\n",
            "| 22ALR192|       BALA |       AIML|            B|      89|     76|   90|\n",
            "| 22ALR073|        SAM |       AIML|            B|      88|     97|   99|\n",
            "| 22ALR099|   NANDHINI |       AIML|            B|      90|     87|   89|\n",
            "| 22ALR120|    KEERTHI |       AIML|            B|      88|     90|   89|\n",
            "+---------+------------+-----------+-------------+--------+-------+-----+\n",
            "\n"
          ]
        }
      ],
      "source": [
        "# Union the DataFrames\n",
        "combined_df = dff1.union(dff2)\n",
        "combined_df1=dff3.union(dff4)\n",
        "final_df=combined_df.union(combined_df1)\n",
        "final_df.show()\n",
        "\n"
      ]
    },
    {
      "cell_type": "code",
      "execution_count": null,
      "metadata": {
        "colab": {
          "base_uri": "https://localhost:8080/"
        },
        "id": "X2dkDQ_y48WS",
        "outputId": "1ae5447d-f1fc-4de5-b1de-1afabdeba1e3"
      },
      "outputs": [
        {
          "output_type": "stream",
          "name": "stdout",
          "text": [
            "+---------+------------+-----------+-------------+--------+-------+-----+\n",
            "|  Roll No|        Name|     Branch|      Section|     BDA|     DA|  IVA|\n",
            "+---------+------------+-----------+-------------+--------+-------+-----+\n",
            "| 22ADR003|   AISWARYA |       AIDS|            A|      80|     90|   86|\n",
            "| 22ADR016|       DEVA |       AIDS|            A|      78|     84|   80|\n",
            "| 22ADR034|   HARSHINI |       AIDS|            A|      80|     80|   84|\n",
            "| 22ADR033|HARIPREETHA |       AIDS|            A|      82|     82|   86|\n",
            "| 22ADR015|DEVABRINDHA |       AIDS|            A|      76|     80|   82|\n",
            "| 22ADR002|     SANJAY |       AIDS|          B  |     84 |    90 |   80|\n",
            "| 22ADR084|   PRAKATHI |      AIDS |          B  |     80 |    88 |   90|\n",
            "| 22ADR100|    SAMAIRA |       AIDS|           B |      90|   92  |   94|\n",
            "|22ADR005 |    AKIRA   |       AIDS|           B |      88|   86  |   92|\n",
            "|22ADR055 |   KISHORE  |       AIDS|           B |     75 |   77  |   80|\n",
            "| 22ALR073|    KUMUDHA |       AIML|            A|      88|     90|   98|\n",
            "| 22ALR089|    MADAVAN |       AIML|            A|      80|     78|   70|\n",
            "| 22ALR091|   NANDHINI |       AIML|            A|      89|     76|   90|\n",
            "| 22ALR077|     SATHYA |       AIML|            A|      90|     94|   90|\n",
            "| 22ALR097|      THIRU |       AIML|            A|      78|     76|   80|\n",
            "| 22ALR066|       ARUN |       AIML|            B|      80|     67|   89|\n",
            "| 22ALR192|       BALA |       AIML|            B|      89|     76|   90|\n",
            "| 22ALR073|        SAM |       AIML|            B|      88|     97|   99|\n",
            "| 22ALR099|   NANDHINI |       AIML|            B|      90|     87|   89|\n",
            "| 22ALR120|    KEERTHI |       AIML|            B|      88|     90|   89|\n",
            "+---------+------------+-----------+-------------+--------+-------+-----+\n",
            "\n"
          ]
        }
      ],
      "source": [
        "final_df.select(*cols1).show()"
      ]
    },
    {
      "cell_type": "code",
      "execution_count": null,
      "metadata": {
        "colab": {
          "base_uri": "https://localhost:8080/"
        },
        "id": "QyPom3fD5LcS",
        "outputId": "a5a3632f-dff0-4438-804b-74a37dd1acf0"
      },
      "outputs": [
        {
          "output_type": "stream",
          "name": "stdout",
          "text": [
            "+------------+---------+\n",
            "|        Name|  Roll no|\n",
            "+------------+---------+\n",
            "|   AISWARYA | 22ADR003|\n",
            "|       DEVA | 22ADR016|\n",
            "|   HARSHINI | 22ADR034|\n",
            "|HARIPREETHA | 22ADR033|\n",
            "|DEVABRINDHA | 22ADR015|\n",
            "|     SANJAY | 22ADR002|\n",
            "|   PRAKATHI | 22ADR084|\n",
            "|    SAMAIRA | 22ADR100|\n",
            "|    AKIRA   |22ADR005 |\n",
            "|   KISHORE  |22ADR055 |\n",
            "|    KUMUDHA | 22ALR073|\n",
            "|    MADAVAN | 22ALR089|\n",
            "|   NANDHINI | 22ALR091|\n",
            "|     SATHYA | 22ALR077|\n",
            "|      THIRU | 22ALR097|\n",
            "|       ARUN | 22ALR066|\n",
            "|       BALA | 22ALR192|\n",
            "|        SAM | 22ALR073|\n",
            "|   NANDHINI | 22ALR099|\n",
            "|    KEERTHI | 22ALR120|\n",
            "+------------+---------+\n",
            "\n"
          ]
        }
      ],
      "source": [
        "final_df.select(\"Name\",\"Roll no\").show()"
      ]
    },
    {
      "cell_type": "code",
      "execution_count": null,
      "metadata": {
        "colab": {
          "base_uri": "https://localhost:8080/"
        },
        "id": "ZH0NL54-nrmm",
        "outputId": "61b100a8-5729-4424-f983-0e7cf3da7ca9"
      },
      "outputs": [
        {
          "output_type": "stream",
          "name": "stdout",
          "text": [
            "+------------+-----------+\n",
            "|        Name|     Branch|\n",
            "+------------+-----------+\n",
            "|   AISWARYA |       AIDS|\n",
            "|       DEVA |       AIDS|\n",
            "|   HARSHINI |       AIDS|\n",
            "|HARIPREETHA |       AIDS|\n",
            "|DEVABRINDHA |       AIDS|\n",
            "|     SANJAY |       AIDS|\n",
            "|   PRAKATHI |      AIDS |\n",
            "|    SAMAIRA |       AIDS|\n",
            "|    AKIRA   |       AIDS|\n",
            "|   KISHORE  |       AIDS|\n",
            "|    KUMUDHA |       AIML|\n",
            "|    MADAVAN |       AIML|\n",
            "|   NANDHINI |       AIML|\n",
            "|     SATHYA |       AIML|\n",
            "|      THIRU |       AIML|\n",
            "|       ARUN |       AIML|\n",
            "|       BALA |       AIML|\n",
            "|        SAM |       AIML|\n",
            "|   NANDHINI |       AIML|\n",
            "|    KEERTHI |       AIML|\n",
            "+------------+-----------+\n",
            "\n"
          ]
        }
      ],
      "source": [
        "final_df.select(\"Name\",\"Branch\").show()"
      ]
    },
    {
      "cell_type": "code",
      "execution_count": null,
      "metadata": {
        "colab": {
          "base_uri": "https://localhost:8080/"
        },
        "id": "jDuhWMJFnx6A",
        "outputId": "6db2e7ed-fb97-46c7-b665-759a65d30382"
      },
      "outputs": [
        {
          "output_type": "stream",
          "name": "stdout",
          "text": [
            "+--------+------------+------+-------+---+---+---+\n",
            "| ROLL NO|        NAME|BRANCH|SECTION|BDA| DA|IVA|\n",
            "+--------+------------+------+-------+---+---+---+\n",
            "|22ADR003|   AISWARYA |  AIDS|      A| 80| 90| 86|\n",
            "|22ADR016|       DEVA |  AIDS|      A| 78| 84| 80|\n",
            "|22ADR034|   HARSHINI |  AIDS|      A| 80| 80| 84|\n",
            "|22ADR033|HARIPREETHA |  AIDS|      A| 82| 82| 86|\n",
            "|22ADR015|DEVABRINDHA |  AIDS|      A| 76| 80| 82|\n",
            "+--------+------------+------+-------+---+---+---+\n",
            "\n"
          ]
        }
      ],
      "source": [
        "final_df.filter(final_df.BRANCH==(\"AIDS\")).show()\n"
      ]
    },
    {
      "cell_type": "code",
      "execution_count": null,
      "metadata": {
        "colab": {
          "base_uri": "https://localhost:8080/"
        },
        "id": "JYEx3tOMV6cd",
        "outputId": "86f03870-7376-4b27-d9f2-8d4210af8e23"
      },
      "outputs": [
        {
          "output_type": "stream",
          "name": "stdout",
          "text": [
            "+--------+------------+------+-------+---+---+---+\n",
            "| ROLL NO|        NAME|BRANCH|SECTION|BDA| DA|IVA|\n",
            "+--------+------------+------+-------+---+---+---+\n",
            "|22ADR003|   AISWARYA |  AIDS|      A| 80| 90| 86|\n",
            "|22ADR034|   HARSHINI |  AIDS|      A| 80| 80| 84|\n",
            "|22ADR033|HARIPREETHA |  AIDS|      A| 82| 82| 86|\n",
            "|22ALR066|       ARUN |  AIML|      B| 80| 67| 89|\n",
            "+--------+------------+------+-------+---+---+---+\n",
            "\n"
          ]
        }
      ],
      "source": [
        "\n",
        "final_df.filter(final_df.NAME.contains(\"AR\")).show()\n"
      ]
    },
    {
      "cell_type": "code",
      "execution_count": null,
      "metadata": {
        "colab": {
          "base_uri": "https://localhost:8080/"
        },
        "id": "6mWnC8ZeV6je",
        "outputId": "9942c763-adcd-4544-c618-25276e62f640"
      },
      "outputs": [
        {
          "output_type": "stream",
          "name": "stdout",
          "text": [
            "+--------+------------+------+-------+---+---+---+\n",
            "| ROLL NO|        NAME|BRANCH|SECTION|BDA| DA|IVA|\n",
            "+--------+------------+------+-------+---+---+---+\n",
            "|22ADR003|   AISWARYA |  AIDS|      A| 80| 90| 86|\n",
            "|22ADR016|       DEVA |  AIDS|      A| 78| 84| 80|\n",
            "|22ADR034|   HARSHINI |  AIDS|      A| 80| 80| 84|\n",
            "|22ADR033|HARIPREETHA |  AIDS|      A| 82| 82| 86|\n",
            "|22ADR015|DEVABRINDHA |  AIDS|      A| 76| 80| 82|\n",
            "|22ALR073|    KUMUDHA |  AIML|      A| 88| 90| 98|\n",
            "|22ALR089|    MADAVAN |  AIML|      A| 80| 78| 70|\n",
            "|22ALR091|   NANDHINI |  AIML|      A| 89| 76| 90|\n",
            "|22ALR077|     SATHYA |  AIML|      A| 90| 94| 90|\n",
            "|22ALR097|      THIRU |  AIML|      A| 78| 76| 80|\n",
            "|22ALR066|       ARUN |  AIML|      B| 80| 67| 89|\n",
            "|22ALR192|       BALA |  AIML|      B| 89| 76| 90|\n",
            "|22ALR073|        SAM |  AIML|      B| 88| 97| 99|\n",
            "|22ALR099|   NANDHINI |  AIML|      B| 90| 87| 89|\n",
            "|22ALR120|    KEERTHI |  AIML|      B| 88| 90| 89|\n",
            "+--------+------------+------+-------+---+---+---+\n",
            "\n"
          ]
        }
      ],
      "source": [
        "list=[\"AIDS\",\"AIML\"]\n",
        "final_df.filter(final_df.BRANCH.isin(list)).show()"
      ]
    },
    {
      "cell_type": "code",
      "execution_count": null,
      "metadata": {
        "colab": {
          "base_uri": "https://localhost:8080/"
        },
        "id": "vTohK_GqV6u8",
        "outputId": "79f1b086-d563-410d-8344-70efb6342098"
      },
      "outputs": [
        {
          "output_type": "stream",
          "name": "stdout",
          "text": [
            "+--------+--------+------+-------+---+---+---+\n",
            "| ROLL NO|    NAME|BRANCH|SECTION|BDA| DA|IVA|\n",
            "+--------+--------+------+-------+---+---+---+\n",
            "|22ALR073|KUMUDHA |  AIML|      A| 88| 90| 98|\n",
            "|22ALR120|KEERTHI |  AIML|      B| 88| 90| 89|\n",
            "+--------+--------+------+-------+---+---+---+\n",
            "\n"
          ]
        }
      ],
      "source": [
        "final_df.filter(final_df.NAME.startswith(\"K\")).show()"
      ]
    },
    {
      "cell_type": "code",
      "execution_count": null,
      "metadata": {
        "colab": {
          "base_uri": "https://localhost:8080/"
        },
        "id": "jCiShUiHX1LQ",
        "outputId": "adcdce93-1c62-4862-a30c-f6aa0bb26434"
      },
      "outputs": [
        {
          "output_type": "stream",
          "name": "stdout",
          "text": [
            "+--------+----+------+-------+---+---+---+\n",
            "| ROLL NO|NAME|BRANCH|SECTION|BDA| DA|IVA|\n",
            "+--------+----+------+-------+---+---+---+\n",
            "|22ALR073|SAM |  AIML|      B| 88| 97| 99|\n",
            "+--------+----+------+-------+---+---+---+\n",
            "\n"
          ]
        }
      ],
      "source": [
        "from pyspark.sql.functions import trim\n",
        "\n",
        "# Trim the NAME column to remove spaces and check if it ends with \"NI\"\n",
        "final_df.filter(trim(final_df[\"NAME\"]).endswith(\"M\")).show()\n"
      ]
    },
    {
      "cell_type": "code",
      "execution_count": null,
      "metadata": {
        "colab": {
          "base_uri": "https://localhost:8080/"
        },
        "id": "sjOqxx15YA9p",
        "outputId": "191bd335-1425-4970-d654-1f8ceab06cf0"
      },
      "outputs": [
        {
          "output_type": "stream",
          "name": "stdout",
          "text": [
            "+-----------+\n",
            "|       NAME|\n",
            "+-----------+\n",
            "|   AISWARYA|\n",
            "|      AKIRA|\n",
            "|       ARUN|\n",
            "|       BALA|\n",
            "|       DEVA|\n",
            "|DEVABRINDHA|\n",
            "|HARIPREETHA|\n",
            "|   HARSHINI|\n",
            "|    KEERTHI|\n",
            "|    KISHORE|\n",
            "|    KUMUDHA|\n",
            "|    MADAVAN|\n",
            "|   NANDHINI|\n",
            "|   NANDHINI|\n",
            "|   PRAKATHI|\n",
            "|        SAM|\n",
            "|    SAMAIRA|\n",
            "|     SANJAY|\n",
            "|     SATHYA|\n",
            "|      THIRU|\n",
            "+-----------+\n",
            "\n"
          ]
        }
      ],
      "source": [
        "from pyspark.sql.functions import trim\n",
        "\n",
        "# Trim the NAME column, then sort and display the DataFrame\n",
        "final_df.select(trim(final_df[\"NAME\"]).alias(\"NAME\")).sort(\"NAME\").show()\n"
      ]
    },
    {
      "cell_type": "code",
      "execution_count": null,
      "metadata": {
        "colab": {
          "base_uri": "https://localhost:8080/"
        },
        "id": "do4D2UTYYYDT",
        "outputId": "56451fab-f754-43ae-f94e-b8271216bf93"
      },
      "outputs": [
        {
          "output_type": "stream",
          "name": "stdout",
          "text": [
            "+-----------+-----+\n",
            "|     BRANCH|count|\n",
            "+-----------+-----+\n",
            "|       AIML|   10|\n",
            "|      AIDS |    1|\n",
            "|       AIDS|    2|\n",
            "|       AIDS|    1|\n",
            "|       AIDS|    5|\n",
            "|       AIDS|    1|\n",
            "+-----------+-----+\n",
            "\n"
          ]
        }
      ],
      "source": [
        "\n",
        "final_df.groupBy(final_df.BRANCH).count().show()\n"
      ]
    },
    {
      "cell_type": "code",
      "execution_count": null,
      "metadata": {
        "colab": {
          "base_uri": "https://localhost:8080/"
        },
        "id": "9AnDrCqaYYMu",
        "outputId": "6a524ceb-905d-4776-c5e7-04193b96ca6c"
      },
      "outputs": [
        {
          "output_type": "stream",
          "name": "stdout",
          "text": [
            "+-----------+--------+\n",
            "|     BRANCH|min(BDA)|\n",
            "+-----------+--------+\n",
            "|       AIML|      78|\n",
            "|      AIDS |     80 |\n",
            "|       AIDS|     75 |\n",
            "|       AIDS|     84 |\n",
            "|       AIDS|      76|\n",
            "|       AIDS|      90|\n",
            "+-----------+--------+\n",
            "\n"
          ]
        }
      ],
      "source": [
        "from pyspark.sql.functions import min\n",
        "\n",
        "# Group by BDA and calculate the minimum value of the BDA column\n",
        "final_df.groupBy(\"BRANCH\").agg(min(\"BDA\")).show()\n"
      ]
    },
    {
      "cell_type": "code",
      "execution_count": null,
      "metadata": {
        "colab": {
          "base_uri": "https://localhost:8080/"
        },
        "id": "gTQ8F8PUcRMF",
        "outputId": "5e65eadf-b016-4193-c8d4-19b302098e94"
      },
      "outputs": [
        {
          "output_type": "stream",
          "name": "stdout",
          "text": [
            "+-----------+--------+\n",
            "|     BRANCH|max(IVA)|\n",
            "+-----------+--------+\n",
            "|       AIML|      99|\n",
            "|      AIDS |      90|\n",
            "|       AIDS|      92|\n",
            "|       AIDS|      80|\n",
            "|       AIDS|      86|\n",
            "|       AIDS|      94|\n",
            "+-----------+--------+\n",
            "\n"
          ]
        }
      ],
      "source": [
        "from pyspark.sql.functions import max\n",
        "final_df.groupBy(\"BRANCH\").agg(max(\"IVA\")).show()"
      ]
    },
    {
      "cell_type": "code",
      "execution_count": null,
      "metadata": {
        "colab": {
          "base_uri": "https://localhost:8080/"
        },
        "id": "S5Nm7crWc_TY",
        "outputId": "41e62569-61d0-4cd7-c410-f92eada22841"
      },
      "outputs": [
        {
          "output_type": "stream",
          "name": "stdout",
          "text": [
            "+-----------+--------+\n",
            "|     BRANCH|max(IVA)|\n",
            "+-----------+--------+\n",
            "|       AIML|      99|\n",
            "|      AIDS |      90|\n",
            "|       AIDS|      92|\n",
            "|       AIDS|      80|\n",
            "|       AIDS|      86|\n",
            "|       AIDS|      94|\n",
            "+-----------+--------+\n",
            "\n"
          ]
        }
      ],
      "source": [
        "from pyspark.sql.functions import max\n",
        "final_df.groupBy(\"BRANCH\").agg(max(\"IVA\")).show()"
      ]
    },
    {
      "cell_type": "code",
      "execution_count": null,
      "metadata": {
        "id": "3o4SqFXvDRhV"
      },
      "outputs": [],
      "source": [
        "data = [\n",
        "    (\"22ADR003\", \"AISWARYA\", \"AIDS\", \"A\", \"80\", 90, 86),\n",
        "    (\"22ADR016\", \"DEVA\", \"AIDS\", \"A\", \"78\", 84, 80),\n",
        "    (\"22ADR034\", \"HARSHINI\", \"AIDS\", \"A\", \"80\", 80, 84),\n",
        "    (\"22ADR033\", \"HARIPREETHA\", \"AIDS\", \"A\", \"82\", 82, 86),\n",
        "    (\"22ADR015\", \"DEVABRINDHA\", \"AIDS\", \"A\", \"76\", 80, 82),\n",
        "    (\"22ADR002\", \"SANJAY\", \"AIDS\", \"B\", \"84\", 90, 80),\n",
        "    (\"22ADR084\", \"PRAKATHI\", \"AIDS\", \"B\", \"80\", 88, 90),\n",
        "    (\"22ADR100\", \"SAMAIRA\", \"AIDS\", \"B\", \"90\", 92, 94),\n",
        "    (\"22ADR005\", \"AKIRA\", \"AIDS\", \"B\", \"88\", 86, 92),\n",
        "    (\"22ADR055\", \"KISHORE\", \"AIDS\", \"B\", \"75\", 77, 80),\n",
        "    (\"22ALR073\", \"KUMUDHA\", \"AIML\", \"A\", \"88\", 90, 98),\n",
        "    (\"22ALR089\", \"MADAVAN\", \"AIML\", \"A\", \"80\", 78, 70),\n",
        "    (\"22ALR091\", \"NANDHINI\", \"AIML\", \"A\", \"89\", 76, 90),\n",
        "    (\"22ALR077\", \"SATHYA\", \"AIML\", \"A\", \"90\", 94, 90),\n",
        "    (\"22ALR097\", \"THIRU\", \"AIML\", \"A\", \"78\", 76, 80),\n",
        "    (\"22ALR066\", \"ARUN\", \"AIML\", \"B\", \"80\", 67, 89),\n",
        "    (\"22ALR192\", \"BALA\", \"AIML\", \"B\", \"89\", 76, 90),\n",
        "    (\"22ALR073\", \"SAM\", \"AIML\", \"B\", \"88\", 97, 99),\n",
        "    (\"22ALR099\", \"NANDHINI\", \"AIML\", \"B\", \"90\", 87, 89),\n",
        "    (\"22ALR120\", \"KEERTHI\", \"AIML\", \"B\", \"88\", 90, 89)\n",
        "]\n",
        "\n",
        "columns = [\"Roll No\", \"Name\", \"Branch\", \"Section\", \"BDA\", \"DA\", \"IVA\"]\n",
        "\n",
        "# Create DataFrame\n",
        "final_df1 = spark.createDataFrame(data, schema=columns)\n",
        "final_df1 = final_df1.withColumn(\"BDA\", final_df1[\"BDA\"].cast(\"double\"))\n"
      ]
    },
    {
      "cell_type": "code",
      "source": [
        "pivot_df=final_df1.groupBy(\"Branch\").pivot(\"Section\").sum(\"BDA\")\n",
        "pivot_df.show()"
      ],
      "metadata": {
        "colab": {
          "base_uri": "https://localhost:8080/"
        },
        "id": "F8PCfQWZsvFz",
        "outputId": "99119414-081a-488b-94cf-115a95c97410"
      },
      "execution_count": null,
      "outputs": [
        {
          "output_type": "stream",
          "name": "stdout",
          "text": [
            "+------+-----+-----+\n",
            "|Branch|    A|    B|\n",
            "+------+-----+-----+\n",
            "|  AIML|425.0|435.0|\n",
            "|  AIDS|396.0|417.0|\n",
            "+------+-----+-----+\n",
            "\n"
          ]
        }
      ]
    },
    {
      "cell_type": "code",
      "source": [
        "a = final_df.select(\"BRANCH\").distinct()\n",
        "a.show()"
      ],
      "metadata": {
        "colab": {
          "base_uri": "https://localhost:8080/"
        },
        "id": "9EfnJ6zusWqj",
        "outputId": "1fa78ad5-d63a-4399-cdc2-87e1f52b46ce"
      },
      "execution_count": null,
      "outputs": [
        {
          "output_type": "stream",
          "name": "stdout",
          "text": [
            "+-----------+\n",
            "|     BRANCH|\n",
            "+-----------+\n",
            "|       AIML|\n",
            "|      AIDS |\n",
            "|       AIDS|\n",
            "|       AIDS|\n",
            "|       AIDS|\n",
            "|       AIDS|\n",
            "+-----------+\n",
            "\n"
          ]
        }
      ]
    },
    {
      "cell_type": "code",
      "source": [
        "final_df.select(\"NAME\").dropDuplicates().show()"
      ],
      "metadata": {
        "colab": {
          "base_uri": "https://localhost:8080/"
        },
        "id": "WE50Hq_JvQmr",
        "outputId": "d52a7d12-44e1-40b3-acda-0369143b123c"
      },
      "execution_count": null,
      "outputs": [
        {
          "output_type": "stream",
          "name": "stdout",
          "text": [
            "+------------+\n",
            "|        NAME|\n",
            "+------------+\n",
            "|   KISHORE  |\n",
            "|     SANJAY |\n",
            "|       BALA |\n",
            "|DEVABRINDHA |\n",
            "|    SAMAIRA |\n",
            "|HARIPREETHA |\n",
            "|    MADAVAN |\n",
            "|    KUMUDHA |\n",
            "|    AKIRA   |\n",
            "|   HARSHINI |\n",
            "|    KEERTHI |\n",
            "|        SAM |\n",
            "|   NANDHINI |\n",
            "|      THIRU |\n",
            "|       DEVA |\n",
            "|       ARUN |\n",
            "|   AISWARYA |\n",
            "|   PRAKATHI |\n",
            "|     SATHYA |\n",
            "+------------+\n",
            "\n"
          ]
        }
      ]
    },
    {
      "cell_type": "code",
      "source": [
        "final_df.toPandas()"
      ],
      "metadata": {
        "colab": {
          "base_uri": "https://localhost:8080/",
          "height": 677
        },
        "id": "d8hq7CJWvyhj",
        "outputId": "189f541b-e246-4eea-ffa5-f8d9a4dc10a2"
      },
      "execution_count": null,
      "outputs": [
        {
          "output_type": "execute_result",
          "data": {
            "text/plain": [
              "      ROLL NO          NAME       BRANCH        SECTION  BDA       DA    IVA\n",
              "0    22ADR003     AISWARYA          AIDS              A   80       90     86\n",
              "1    22ADR016         DEVA          AIDS              A   78       84     80\n",
              "2    22ADR034     HARSHINI          AIDS              A   80       80     84\n",
              "3    22ADR033  HARIPREETHA          AIDS              A   82       82     86\n",
              "4    22ADR015  DEVABRINDHA          AIDS              A   76       80     82\n",
              "5    22ADR002       SANJAY          AIDS            B     84      90      80\n",
              "6    22ADR084     PRAKATHI         AIDS             B     80      88      90\n",
              "7    22ADR100      SAMAIRA          AIDS             B    90     92       94\n",
              "8   22ADR005       AKIRA            AIDS             B    88     86       92\n",
              "9   22ADR055      KISHORE           AIDS             B    75     77       80\n",
              "10   22ALR073      KUMUDHA          AIML              A   88       90     98\n",
              "11   22ALR089      MADAVAN          AIML              A   80       78     70\n",
              "12   22ALR091     NANDHINI          AIML              A   89       76     90\n",
              "13   22ALR077       SATHYA          AIML              A   90       94     90\n",
              "14   22ALR097        THIRU          AIML              A   78       76     80\n",
              "15   22ALR066         ARUN          AIML              B   80       67     89\n",
              "16   22ALR192         BALA          AIML              B   89       76     90\n",
              "17   22ALR073          SAM          AIML              B   88       97     99\n",
              "18   22ALR099     NANDHINI          AIML              B   90       87     89\n",
              "19   22ALR120      KEERTHI          AIML              B   88       90     89"
            ],
            "text/html": [
              "\n",
              "  <div id=\"df-c1111d63-2847-454a-bf33-ad9634ac7b1d\" class=\"colab-df-container\">\n",
              "    <div>\n",
              "<style scoped>\n",
              "    .dataframe tbody tr th:only-of-type {\n",
              "        vertical-align: middle;\n",
              "    }\n",
              "\n",
              "    .dataframe tbody tr th {\n",
              "        vertical-align: top;\n",
              "    }\n",
              "\n",
              "    .dataframe thead th {\n",
              "        text-align: right;\n",
              "    }\n",
              "</style>\n",
              "<table border=\"1\" class=\"dataframe\">\n",
              "  <thead>\n",
              "    <tr style=\"text-align: right;\">\n",
              "      <th></th>\n",
              "      <th>ROLL NO</th>\n",
              "      <th>NAME</th>\n",
              "      <th>BRANCH</th>\n",
              "      <th>SECTION</th>\n",
              "      <th>BDA</th>\n",
              "      <th>DA</th>\n",
              "      <th>IVA</th>\n",
              "    </tr>\n",
              "  </thead>\n",
              "  <tbody>\n",
              "    <tr>\n",
              "      <th>0</th>\n",
              "      <td>22ADR003</td>\n",
              "      <td>AISWARYA</td>\n",
              "      <td>AIDS</td>\n",
              "      <td>A</td>\n",
              "      <td>80</td>\n",
              "      <td>90</td>\n",
              "      <td>86</td>\n",
              "    </tr>\n",
              "    <tr>\n",
              "      <th>1</th>\n",
              "      <td>22ADR016</td>\n",
              "      <td>DEVA</td>\n",
              "      <td>AIDS</td>\n",
              "      <td>A</td>\n",
              "      <td>78</td>\n",
              "      <td>84</td>\n",
              "      <td>80</td>\n",
              "    </tr>\n",
              "    <tr>\n",
              "      <th>2</th>\n",
              "      <td>22ADR034</td>\n",
              "      <td>HARSHINI</td>\n",
              "      <td>AIDS</td>\n",
              "      <td>A</td>\n",
              "      <td>80</td>\n",
              "      <td>80</td>\n",
              "      <td>84</td>\n",
              "    </tr>\n",
              "    <tr>\n",
              "      <th>3</th>\n",
              "      <td>22ADR033</td>\n",
              "      <td>HARIPREETHA</td>\n",
              "      <td>AIDS</td>\n",
              "      <td>A</td>\n",
              "      <td>82</td>\n",
              "      <td>82</td>\n",
              "      <td>86</td>\n",
              "    </tr>\n",
              "    <tr>\n",
              "      <th>4</th>\n",
              "      <td>22ADR015</td>\n",
              "      <td>DEVABRINDHA</td>\n",
              "      <td>AIDS</td>\n",
              "      <td>A</td>\n",
              "      <td>76</td>\n",
              "      <td>80</td>\n",
              "      <td>82</td>\n",
              "    </tr>\n",
              "    <tr>\n",
              "      <th>5</th>\n",
              "      <td>22ADR002</td>\n",
              "      <td>SANJAY</td>\n",
              "      <td>AIDS</td>\n",
              "      <td>B</td>\n",
              "      <td>84</td>\n",
              "      <td>90</td>\n",
              "      <td>80</td>\n",
              "    </tr>\n",
              "    <tr>\n",
              "      <th>6</th>\n",
              "      <td>22ADR084</td>\n",
              "      <td>PRAKATHI</td>\n",
              "      <td>AIDS</td>\n",
              "      <td>B</td>\n",
              "      <td>80</td>\n",
              "      <td>88</td>\n",
              "      <td>90</td>\n",
              "    </tr>\n",
              "    <tr>\n",
              "      <th>7</th>\n",
              "      <td>22ADR100</td>\n",
              "      <td>SAMAIRA</td>\n",
              "      <td>AIDS</td>\n",
              "      <td>B</td>\n",
              "      <td>90</td>\n",
              "      <td>92</td>\n",
              "      <td>94</td>\n",
              "    </tr>\n",
              "    <tr>\n",
              "      <th>8</th>\n",
              "      <td>22ADR005</td>\n",
              "      <td>AKIRA</td>\n",
              "      <td>AIDS</td>\n",
              "      <td>B</td>\n",
              "      <td>88</td>\n",
              "      <td>86</td>\n",
              "      <td>92</td>\n",
              "    </tr>\n",
              "    <tr>\n",
              "      <th>9</th>\n",
              "      <td>22ADR055</td>\n",
              "      <td>KISHORE</td>\n",
              "      <td>AIDS</td>\n",
              "      <td>B</td>\n",
              "      <td>75</td>\n",
              "      <td>77</td>\n",
              "      <td>80</td>\n",
              "    </tr>\n",
              "    <tr>\n",
              "      <th>10</th>\n",
              "      <td>22ALR073</td>\n",
              "      <td>KUMUDHA</td>\n",
              "      <td>AIML</td>\n",
              "      <td>A</td>\n",
              "      <td>88</td>\n",
              "      <td>90</td>\n",
              "      <td>98</td>\n",
              "    </tr>\n",
              "    <tr>\n",
              "      <th>11</th>\n",
              "      <td>22ALR089</td>\n",
              "      <td>MADAVAN</td>\n",
              "      <td>AIML</td>\n",
              "      <td>A</td>\n",
              "      <td>80</td>\n",
              "      <td>78</td>\n",
              "      <td>70</td>\n",
              "    </tr>\n",
              "    <tr>\n",
              "      <th>12</th>\n",
              "      <td>22ALR091</td>\n",
              "      <td>NANDHINI</td>\n",
              "      <td>AIML</td>\n",
              "      <td>A</td>\n",
              "      <td>89</td>\n",
              "      <td>76</td>\n",
              "      <td>90</td>\n",
              "    </tr>\n",
              "    <tr>\n",
              "      <th>13</th>\n",
              "      <td>22ALR077</td>\n",
              "      <td>SATHYA</td>\n",
              "      <td>AIML</td>\n",
              "      <td>A</td>\n",
              "      <td>90</td>\n",
              "      <td>94</td>\n",
              "      <td>90</td>\n",
              "    </tr>\n",
              "    <tr>\n",
              "      <th>14</th>\n",
              "      <td>22ALR097</td>\n",
              "      <td>THIRU</td>\n",
              "      <td>AIML</td>\n",
              "      <td>A</td>\n",
              "      <td>78</td>\n",
              "      <td>76</td>\n",
              "      <td>80</td>\n",
              "    </tr>\n",
              "    <tr>\n",
              "      <th>15</th>\n",
              "      <td>22ALR066</td>\n",
              "      <td>ARUN</td>\n",
              "      <td>AIML</td>\n",
              "      <td>B</td>\n",
              "      <td>80</td>\n",
              "      <td>67</td>\n",
              "      <td>89</td>\n",
              "    </tr>\n",
              "    <tr>\n",
              "      <th>16</th>\n",
              "      <td>22ALR192</td>\n",
              "      <td>BALA</td>\n",
              "      <td>AIML</td>\n",
              "      <td>B</td>\n",
              "      <td>89</td>\n",
              "      <td>76</td>\n",
              "      <td>90</td>\n",
              "    </tr>\n",
              "    <tr>\n",
              "      <th>17</th>\n",
              "      <td>22ALR073</td>\n",
              "      <td>SAM</td>\n",
              "      <td>AIML</td>\n",
              "      <td>B</td>\n",
              "      <td>88</td>\n",
              "      <td>97</td>\n",
              "      <td>99</td>\n",
              "    </tr>\n",
              "    <tr>\n",
              "      <th>18</th>\n",
              "      <td>22ALR099</td>\n",
              "      <td>NANDHINI</td>\n",
              "      <td>AIML</td>\n",
              "      <td>B</td>\n",
              "      <td>90</td>\n",
              "      <td>87</td>\n",
              "      <td>89</td>\n",
              "    </tr>\n",
              "    <tr>\n",
              "      <th>19</th>\n",
              "      <td>22ALR120</td>\n",
              "      <td>KEERTHI</td>\n",
              "      <td>AIML</td>\n",
              "      <td>B</td>\n",
              "      <td>88</td>\n",
              "      <td>90</td>\n",
              "      <td>89</td>\n",
              "    </tr>\n",
              "  </tbody>\n",
              "</table>\n",
              "</div>\n",
              "    <div class=\"colab-df-buttons\">\n",
              "\n",
              "  <div class=\"colab-df-container\">\n",
              "    <button class=\"colab-df-convert\" onclick=\"convertToInteractive('df-c1111d63-2847-454a-bf33-ad9634ac7b1d')\"\n",
              "            title=\"Convert this dataframe to an interactive table.\"\n",
              "            style=\"display:none;\">\n",
              "\n",
              "  <svg xmlns=\"http://www.w3.org/2000/svg\" height=\"24px\" viewBox=\"0 -960 960 960\">\n",
              "    <path d=\"M120-120v-720h720v720H120Zm60-500h600v-160H180v160Zm220 220h160v-160H400v160Zm0 220h160v-160H400v160ZM180-400h160v-160H180v160Zm440 0h160v-160H620v160ZM180-180h160v-160H180v160Zm440 0h160v-160H620v160Z\"/>\n",
              "  </svg>\n",
              "    </button>\n",
              "\n",
              "  <style>\n",
              "    .colab-df-container {\n",
              "      display:flex;\n",
              "      gap: 12px;\n",
              "    }\n",
              "\n",
              "    .colab-df-convert {\n",
              "      background-color: #E8F0FE;\n",
              "      border: none;\n",
              "      border-radius: 50%;\n",
              "      cursor: pointer;\n",
              "      display: none;\n",
              "      fill: #1967D2;\n",
              "      height: 32px;\n",
              "      padding: 0 0 0 0;\n",
              "      width: 32px;\n",
              "    }\n",
              "\n",
              "    .colab-df-convert:hover {\n",
              "      background-color: #E2EBFA;\n",
              "      box-shadow: 0px 1px 2px rgba(60, 64, 67, 0.3), 0px 1px 3px 1px rgba(60, 64, 67, 0.15);\n",
              "      fill: #174EA6;\n",
              "    }\n",
              "\n",
              "    .colab-df-buttons div {\n",
              "      margin-bottom: 4px;\n",
              "    }\n",
              "\n",
              "    [theme=dark] .colab-df-convert {\n",
              "      background-color: #3B4455;\n",
              "      fill: #D2E3FC;\n",
              "    }\n",
              "\n",
              "    [theme=dark] .colab-df-convert:hover {\n",
              "      background-color: #434B5C;\n",
              "      box-shadow: 0px 1px 3px 1px rgba(0, 0, 0, 0.15);\n",
              "      filter: drop-shadow(0px 1px 2px rgba(0, 0, 0, 0.3));\n",
              "      fill: #FFFFFF;\n",
              "    }\n",
              "  </style>\n",
              "\n",
              "    <script>\n",
              "      const buttonEl =\n",
              "        document.querySelector('#df-c1111d63-2847-454a-bf33-ad9634ac7b1d button.colab-df-convert');\n",
              "      buttonEl.style.display =\n",
              "        google.colab.kernel.accessAllowed ? 'block' : 'none';\n",
              "\n",
              "      async function convertToInteractive(key) {\n",
              "        const element = document.querySelector('#df-c1111d63-2847-454a-bf33-ad9634ac7b1d');\n",
              "        const dataTable =\n",
              "          await google.colab.kernel.invokeFunction('convertToInteractive',\n",
              "                                                    [key], {});\n",
              "        if (!dataTable) return;\n",
              "\n",
              "        const docLinkHtml = 'Like what you see? Visit the ' +\n",
              "          '<a target=\"_blank\" href=https://colab.research.google.com/notebooks/data_table.ipynb>data table notebook</a>'\n",
              "          + ' to learn more about interactive tables.';\n",
              "        element.innerHTML = '';\n",
              "        dataTable['output_type'] = 'display_data';\n",
              "        await google.colab.output.renderOutput(dataTable, element);\n",
              "        const docLink = document.createElement('div');\n",
              "        docLink.innerHTML = docLinkHtml;\n",
              "        element.appendChild(docLink);\n",
              "      }\n",
              "    </script>\n",
              "  </div>\n",
              "\n",
              "\n",
              "<div id=\"df-9bda60d9-d784-46c2-b52d-0aad24c153e4\">\n",
              "  <button class=\"colab-df-quickchart\" onclick=\"quickchart('df-9bda60d9-d784-46c2-b52d-0aad24c153e4')\"\n",
              "            title=\"Suggest charts\"\n",
              "            style=\"display:none;\">\n",
              "\n",
              "<svg xmlns=\"http://www.w3.org/2000/svg\" height=\"24px\"viewBox=\"0 0 24 24\"\n",
              "     width=\"24px\">\n",
              "    <g>\n",
              "        <path d=\"M19 3H5c-1.1 0-2 .9-2 2v14c0 1.1.9 2 2 2h14c1.1 0 2-.9 2-2V5c0-1.1-.9-2-2-2zM9 17H7v-7h2v7zm4 0h-2V7h2v10zm4 0h-2v-4h2v4z\"/>\n",
              "    </g>\n",
              "</svg>\n",
              "  </button>\n",
              "\n",
              "<style>\n",
              "  .colab-df-quickchart {\n",
              "      --bg-color: #E8F0FE;\n",
              "      --fill-color: #1967D2;\n",
              "      --hover-bg-color: #E2EBFA;\n",
              "      --hover-fill-color: #174EA6;\n",
              "      --disabled-fill-color: #AAA;\n",
              "      --disabled-bg-color: #DDD;\n",
              "  }\n",
              "\n",
              "  [theme=dark] .colab-df-quickchart {\n",
              "      --bg-color: #3B4455;\n",
              "      --fill-color: #D2E3FC;\n",
              "      --hover-bg-color: #434B5C;\n",
              "      --hover-fill-color: #FFFFFF;\n",
              "      --disabled-bg-color: #3B4455;\n",
              "      --disabled-fill-color: #666;\n",
              "  }\n",
              "\n",
              "  .colab-df-quickchart {\n",
              "    background-color: var(--bg-color);\n",
              "    border: none;\n",
              "    border-radius: 50%;\n",
              "    cursor: pointer;\n",
              "    display: none;\n",
              "    fill: var(--fill-color);\n",
              "    height: 32px;\n",
              "    padding: 0;\n",
              "    width: 32px;\n",
              "  }\n",
              "\n",
              "  .colab-df-quickchart:hover {\n",
              "    background-color: var(--hover-bg-color);\n",
              "    box-shadow: 0 1px 2px rgba(60, 64, 67, 0.3), 0 1px 3px 1px rgba(60, 64, 67, 0.15);\n",
              "    fill: var(--button-hover-fill-color);\n",
              "  }\n",
              "\n",
              "  .colab-df-quickchart-complete:disabled,\n",
              "  .colab-df-quickchart-complete:disabled:hover {\n",
              "    background-color: var(--disabled-bg-color);\n",
              "    fill: var(--disabled-fill-color);\n",
              "    box-shadow: none;\n",
              "  }\n",
              "\n",
              "  .colab-df-spinner {\n",
              "    border: 2px solid var(--fill-color);\n",
              "    border-color: transparent;\n",
              "    border-bottom-color: var(--fill-color);\n",
              "    animation:\n",
              "      spin 1s steps(1) infinite;\n",
              "  }\n",
              "\n",
              "  @keyframes spin {\n",
              "    0% {\n",
              "      border-color: transparent;\n",
              "      border-bottom-color: var(--fill-color);\n",
              "      border-left-color: var(--fill-color);\n",
              "    }\n",
              "    20% {\n",
              "      border-color: transparent;\n",
              "      border-left-color: var(--fill-color);\n",
              "      border-top-color: var(--fill-color);\n",
              "    }\n",
              "    30% {\n",
              "      border-color: transparent;\n",
              "      border-left-color: var(--fill-color);\n",
              "      border-top-color: var(--fill-color);\n",
              "      border-right-color: var(--fill-color);\n",
              "    }\n",
              "    40% {\n",
              "      border-color: transparent;\n",
              "      border-right-color: var(--fill-color);\n",
              "      border-top-color: var(--fill-color);\n",
              "    }\n",
              "    60% {\n",
              "      border-color: transparent;\n",
              "      border-right-color: var(--fill-color);\n",
              "    }\n",
              "    80% {\n",
              "      border-color: transparent;\n",
              "      border-right-color: var(--fill-color);\n",
              "      border-bottom-color: var(--fill-color);\n",
              "    }\n",
              "    90% {\n",
              "      border-color: transparent;\n",
              "      border-bottom-color: var(--fill-color);\n",
              "    }\n",
              "  }\n",
              "</style>\n",
              "\n",
              "  <script>\n",
              "    async function quickchart(key) {\n",
              "      const quickchartButtonEl =\n",
              "        document.querySelector('#' + key + ' button');\n",
              "      quickchartButtonEl.disabled = true;  // To prevent multiple clicks.\n",
              "      quickchartButtonEl.classList.add('colab-df-spinner');\n",
              "      try {\n",
              "        const charts = await google.colab.kernel.invokeFunction(\n",
              "            'suggestCharts', [key], {});\n",
              "      } catch (error) {\n",
              "        console.error('Error during call to suggestCharts:', error);\n",
              "      }\n",
              "      quickchartButtonEl.classList.remove('colab-df-spinner');\n",
              "      quickchartButtonEl.classList.add('colab-df-quickchart-complete');\n",
              "    }\n",
              "    (() => {\n",
              "      let quickchartButtonEl =\n",
              "        document.querySelector('#df-9bda60d9-d784-46c2-b52d-0aad24c153e4 button');\n",
              "      quickchartButtonEl.style.display =\n",
              "        google.colab.kernel.accessAllowed ? 'block' : 'none';\n",
              "    })();\n",
              "  </script>\n",
              "</div>\n",
              "\n",
              "    </div>\n",
              "  </div>\n"
            ],
            "application/vnd.google.colaboratory.intrinsic+json": {
              "type": "dataframe",
              "summary": "{\n  \"name\": \"final_df\",\n  \"rows\": 20,\n  \"fields\": [\n    {\n      \"column\": \"ROLL NO\",\n      \"properties\": {\n        \"dtype\": \"string\",\n        \"num_unique_values\": 19,\n        \"samples\": [\n          \"22ADR003\",\n          \"22ADR002\",\n          \"22ALR089\"\n        ],\n        \"semantic_type\": \"\",\n        \"description\": \"\"\n      }\n    },\n    {\n      \"column\": \"NAME\",\n      \"properties\": {\n        \"dtype\": \"string\",\n        \"num_unique_values\": 19,\n        \"samples\": [\n          \"AISWARYA \",\n          \"   SANJAY \",\n          \"MADAVAN \"\n        ],\n        \"semantic_type\": \"\",\n        \"description\": \"\"\n      }\n    },\n    {\n      \"column\": \"BRANCH\",\n      \"properties\": {\n        \"dtype\": \"category\",\n        \"num_unique_values\": 6,\n        \"samples\": [\n          \"AIDS\",\n          \"       AIDS\",\n          \"AIML\"\n        ],\n        \"semantic_type\": \"\",\n        \"description\": \"\"\n      }\n    },\n    {\n      \"column\": \"SECTION\",\n      \"properties\": {\n        \"dtype\": \"category\",\n        \"num_unique_values\": 5,\n        \"samples\": [\n          \"          B  \",\n          \"B\",\n          \"         B  \"\n        ],\n        \"semantic_type\": \"\",\n        \"description\": \"\"\n      }\n    },\n    {\n      \"column\": \"BDA\",\n      \"properties\": {\n        \"dtype\": \"int32\",\n        \"num_unique_values\": 9,\n        \"samples\": [\n          75,\n          78,\n          90\n        ],\n        \"semantic_type\": \"\",\n        \"description\": \"\"\n      }\n    },\n    {\n      \"column\": \"DA\",\n      \"properties\": {\n        \"dtype\": \"string\",\n        \"num_unique_values\": 15,\n        \"samples\": [\n          \"78\",\n          \"94\",\n          \"90\"\n        ],\n        \"semantic_type\": \"\",\n        \"description\": \"\"\n      }\n    },\n    {\n      \"column\": \"IVA\",\n      \"properties\": {\n        \"dtype\": \"string\",\n        \"num_unique_values\": 14,\n        \"samples\": [\n          \"98\",\n          \"90\",\n          \"86\"\n        ],\n        \"semantic_type\": \"\",\n        \"description\": \"\"\n      }\n    }\n  ]\n}"
            }
          },
          "metadata": {},
          "execution_count": 42
        }
      ]
    },
    {
      "cell_type": "code",
      "source": [
        "+"
      ],
      "metadata": {
        "id": "3bH8UJ0Bv7AD"
      },
      "execution_count": null,
      "outputs": []
    }
  ],
  "metadata": {
    "colab": {
      "provenance": []
    },
    "kernelspec": {
      "display_name": "Python 3",
      "name": "python3"
    },
    "language_info": {
      "name": "python"
    }
  },
  "nbformat": 4,
  "nbformat_minor": 0
}