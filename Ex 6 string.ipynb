{
  "nbformat": 4,
  "nbformat_minor": 0,
  "metadata": {
    "colab": {
      "provenance": []
    },
    "kernelspec": {
      "name": "python3",
      "display_name": "Python 3"
    },
    "language_info": {
      "name": "python"
    }
  },
  "cells": [
    {
      "cell_type": "code",
      "execution_count": null,
      "metadata": {
        "colab": {
          "base_uri": "https://localhost:8080/"
        },
        "id": "e91u1wii3Pio",
        "outputId": "38f949bd-cc4a-4df8-de69-abd65965b3b9"
      },
      "outputs": [
        {
          "output_type": "stream",
          "name": "stdout",
          "text": [
            "Collecting pyspark\n",
            "  Downloading pyspark-3.4.1.tar.gz (310.8 MB)\n",
            "\u001b[2K     \u001b[90m━━━━━━━━━━━━━━━━━━━━━━━━━━━━━━━━━━━━━━━\u001b[0m \u001b[32m310.8/310.8 MB\u001b[0m \u001b[31m3.9 MB/s\u001b[0m eta \u001b[36m0:00:00\u001b[0m\n",
            "\u001b[?25h  Preparing metadata (setup.py) ... \u001b[?25l\u001b[?25hdone\n",
            "Requirement already satisfied: py4j==0.10.9.7 in /usr/local/lib/python3.10/dist-packages (from pyspark) (0.10.9.7)\n",
            "Building wheels for collected packages: pyspark\n",
            "  Building wheel for pyspark (setup.py) ... \u001b[?25l\u001b[?25hdone\n",
            "  Created wheel for pyspark: filename=pyspark-3.4.1-py2.py3-none-any.whl size=311285387 sha256=f77d52f2e03bb5374f49f9cc1654fdce14f47dbadcf7eaaff2dc818768633584\n",
            "  Stored in directory: /root/.cache/pip/wheels/0d/77/a3/ff2f74cc9ab41f8f594dabf0579c2a7c6de920d584206e0834\n",
            "Successfully built pyspark\n",
            "Installing collected packages: pyspark\n",
            "Successfully installed pyspark-3.4.1\n"
          ]
        }
      ],
      "source": [
        "!pip install pyspark\n",
        "from pyspark.sql import SparkSession"
      ]
    },
    {
      "cell_type": "code",
      "source": [
        "\n",
        "spark = SparkSession.builder.appName(\"StringFunctionsExample\").getOrCreate()\n",
        "\n",
        "data = [(\"Toyota Camry\", \"Sedan\", \"2022\"),\n",
        "        (\"Honda Civic\", \"Sedan\", \"2022\"),\n",
        "        (\"Ford F-150\", \"Truck\", \"2022\"),\n",
        "        (\"Tesla Model 3\", \"Electric\", \"2022\"),\n",
        "        (\"Chevrolet Malibu\", \"Sedan\", \"2022\")]\n",
        "columns = [\"model\", \"type\", \"year\"]\n",
        "\n",
        "df = spark.createDataFrame(data, columns)\n",
        "\n",
        "df.createOrReplaceTempView(\"cars\")\n"
      ],
      "metadata": {
        "id": "JbGWuc6Hd8XF"
      },
      "execution_count": null,
      "outputs": []
    },
    {
      "cell_type": "code",
      "source": [
        "\n",
        "\n",
        "concatenated_df = spark.sql(\"SELECT concat_ws(' - ', model, type, year) AS details FROM cars\")\n",
        "print(\"1. Concatenated Strings:\")\n",
        "concatenated_df.show(truncate=False)\n"
      ],
      "metadata": {
        "colab": {
          "base_uri": "https://localhost:8080/"
        },
        "id": "y0JogHCQeAhb",
        "outputId": "8da44f83-a2b3-405c-c1d9-0106f2446e45"
      },
      "execution_count": null,
      "outputs": [
        {
          "output_type": "stream",
          "name": "stdout",
          "text": [
            "1. Concatenated Strings:\n",
            "+-------------------------------+\n",
            "|details                        |\n",
            "+-------------------------------+\n",
            "|Toyota Camry - Sedan - 2022    |\n",
            "|Honda Civic - Sedan - 2022     |\n",
            "|Ford F-150 - Truck - 2022      |\n",
            "|Tesla Model 3 - Electric - 2022|\n",
            "|Chevrolet Malibu - Sedan - 2022|\n",
            "+-------------------------------+\n",
            "\n"
          ]
        }
      ]
    },
    {
      "cell_type": "code",
      "source": [
        "length_df = spark.sql(\"SELECT model, length(type) AS type_length FROM cars\")\n",
        "\n",
        "print(\"2. Length of Types:\")\n",
        "length_df.show()"
      ],
      "metadata": {
        "colab": {
          "base_uri": "https://localhost:8080/"
        },
        "id": "9jrWn-C1eDZz",
        "outputId": "2ed9db20-35a1-4c10-ae15-b6d2d02cd79e"
      },
      "execution_count": null,
      "outputs": [
        {
          "output_type": "stream",
          "name": "stdout",
          "text": [
            "2. Length of Types:\n",
            "+----------------+-----------+\n",
            "|           model|type_length|\n",
            "+----------------+-----------+\n",
            "|    Toyota Camry|          5|\n",
            "|     Honda Civic|          5|\n",
            "|      Ford F-150|          5|\n",
            "|   Tesla Model 3|          8|\n",
            "|Chevrolet Malibu|          5|\n",
            "+----------------+-----------+\n",
            "\n"
          ]
        }
      ]
    },
    {
      "cell_type": "code",
      "source": [
        "substring_df = spark.sql(\"SELECT model, substring(type, 1, 4) AS type_abbr FROM cars\")\n",
        "\n",
        "print(\"3. Substring of Types:\")\n",
        "substring_df.show()"
      ],
      "metadata": {
        "colab": {
          "base_uri": "https://localhost:8080/"
        },
        "id": "-uTGfLZ4eEvU",
        "outputId": "18ca751d-4e20-458c-ce89-ee7216bd3b2f"
      },
      "execution_count": null,
      "outputs": [
        {
          "output_type": "stream",
          "name": "stdout",
          "text": [
            "3. Substring of Types:\n",
            "+----------------+---------+\n",
            "|           model|type_abbr|\n",
            "+----------------+---------+\n",
            "|    Toyota Camry|     Seda|\n",
            "|     Honda Civic|     Seda|\n",
            "|      Ford F-150|     Truc|\n",
            "|   Tesla Model 3|     Elec|\n",
            "|Chevrolet Malibu|     Seda|\n",
            "+----------------+---------+\n",
            "\n"
          ]
        }
      ]
    },
    {
      "cell_type": "code",
      "source": [
        "uppercase_df = spark.sql(\"SELECT model, type, upper(type) AS uppercase_type FROM cars\")\n",
        "\n",
        "print(\"4. Uppercase Types:\")\n",
        "uppercase_df.show()"
      ],
      "metadata": {
        "colab": {
          "base_uri": "https://localhost:8080/"
        },
        "id": "HLxjYtX5eF_j",
        "outputId": "407b01dd-5d22-4460-c6ed-061ad76976cd"
      },
      "execution_count": null,
      "outputs": [
        {
          "output_type": "stream",
          "name": "stdout",
          "text": [
            "4. Uppercase Types:\n",
            "+----------------+--------+--------------+\n",
            "|           model|    type|uppercase_type|\n",
            "+----------------+--------+--------------+\n",
            "|    Toyota Camry|   Sedan|         SEDAN|\n",
            "|     Honda Civic|   Sedan|         SEDAN|\n",
            "|      Ford F-150|   Truck|         TRUCK|\n",
            "|   Tesla Model 3|Electric|      ELECTRIC|\n",
            "|Chevrolet Malibu|   Sedan|         SEDAN|\n",
            "+----------------+--------+--------------+\n",
            "\n"
          ]
        }
      ]
    },
    {
      "cell_type": "code",
      "source": [
        "lowercase_df = spark.sql(\"SELECT model, type, lower(type) AS lowercase_type FROM cars\")\n",
        "print(\"5. Lowercase Types:\")\n",
        "lowercase_df.show()"
      ],
      "metadata": {
        "colab": {
          "base_uri": "https://localhost:8080/"
        },
        "id": "2phxYPhCeHdL",
        "outputId": "3882e048-d484-44ee-e7c6-9dfc7c8fd78e"
      },
      "execution_count": null,
      "outputs": [
        {
          "output_type": "stream",
          "name": "stdout",
          "text": [
            "5. Lowercase Types:\n",
            "+----------------+--------+--------------+\n",
            "|           model|    type|lowercase_type|\n",
            "+----------------+--------+--------------+\n",
            "|    Toyota Camry|   Sedan|         sedan|\n",
            "|     Honda Civic|   Sedan|         sedan|\n",
            "|      Ford F-150|   Truck|         truck|\n",
            "|   Tesla Model 3|Electric|      electric|\n",
            "|Chevrolet Malibu|   Sedan|         sedan|\n",
            "+----------------+--------+--------------+\n",
            "\n"
          ]
        }
      ]
    },
    {
      "cell_type": "code",
      "source": [
        "\n",
        "spark.stop()"
      ],
      "metadata": {
        "id": "9MeeFOOQeIxr"
      },
      "execution_count": null,
      "outputs": []
    },
    {
      "cell_type": "code",
      "source": [
        "from pyspark.sql.functions import base64\n",
        "from pyspark.sql.functions import col\n",
        "encoded_df = df.withColumn(\"model_base64\", base64(col(\"model\")))\n",
        "encoded_df.show()"
      ],
      "metadata": {
        "colab": {
          "base_uri": "https://localhost:8080/"
        },
        "id": "qW0wnD4LeagT",
        "outputId": "c1aa6003-eeb7-4ad4-ae4c-a5cdb5793f51"
      },
      "execution_count": null,
      "outputs": [
        {
          "output_type": "stream",
          "name": "stdout",
          "text": [
            "+----------------+--------+----+--------------------+\n",
            "|           model|    type|year|        model_base64|\n",
            "+----------------+--------+----+--------------------+\n",
            "|    Toyota Camry|   Sedan|2022|    VG95b3RhIENhbXJ5|\n",
            "|     Honda Civic|   Sedan|2022|    SG9uZGEgQ2l2aWM=|\n",
            "|      Ford F-150|   Truck|2022|    Rm9yZCBGLTE1MA==|\n",
            "|   Tesla Model 3|Electric|2022|VGVzbGEgTW9kZWwgMw==|\n",
            "|Chevrolet Malibu|   Sedan|2022|Q2hldnJvbGV0IE1hb...|\n",
            "+----------------+--------+----+--------------------+\n",
            "\n"
          ]
        }
      ]
    },
    {
      "cell_type": "code",
      "source": [
        "from pyspark.sql.functions import ascii\n",
        "\n",
        "ascii_df = df.withColumn(\"model_ascii\", ascii(col(\"model\")))\n",
        "ascii_df.show()"
      ],
      "metadata": {
        "colab": {
          "base_uri": "https://localhost:8080/"
        },
        "id": "H6nQvYw1enpt",
        "outputId": "c7a81a08-c712-4264-99bd-08c658c2d628"
      },
      "execution_count": null,
      "outputs": [
        {
          "output_type": "stream",
          "name": "stdout",
          "text": [
            "+----------------+--------+----+-----------+\n",
            "|           model|    type|year|model_ascii|\n",
            "+----------------+--------+----+-----------+\n",
            "|    Toyota Camry|   Sedan|2022|         84|\n",
            "|     Honda Civic|   Sedan|2022|         72|\n",
            "|      Ford F-150|   Truck|2022|         70|\n",
            "|   Tesla Model 3|Electric|2022|         84|\n",
            "|Chevrolet Malibu|   Sedan|2022|         67|\n",
            "+----------------+--------+----+-----------+\n",
            "\n"
          ]
        }
      ]
    },
    {
      "cell_type": "code",
      "source": [
        "from pyspark.sql.functions import concat_ws\n",
        "\n",
        "concatenated_df = df.withColumn(\"details\", concat_ws(\"-\", col(\"model\"), col(\"type\"), col(\"year\")))\n",
        "concatenated_df.show()"
      ],
      "metadata": {
        "colab": {
          "base_uri": "https://localhost:8080/"
        },
        "id": "IxJ_rovAeqA0",
        "outputId": "79cab2ce-02de-48ec-e964-645fbde1a995"
      },
      "execution_count": null,
      "outputs": [
        {
          "output_type": "stream",
          "name": "stdout",
          "text": [
            "+----------------+--------+----+--------------------+\n",
            "|           model|    type|year|             details|\n",
            "+----------------+--------+----+--------------------+\n",
            "|    Toyota Camry|   Sedan|2022|Toyota Camry-Seda...|\n",
            "|     Honda Civic|   Sedan|2022|Honda Civic-Sedan...|\n",
            "|      Ford F-150|   Truck|2022|Ford F-150-Truck-...|\n",
            "|   Tesla Model 3|Electric|2022|Tesla Model 3-Ele...|\n",
            "|Chevrolet Malibu|   Sedan|2022|Chevrolet Malibu-...|\n",
            "+----------------+--------+----+--------------------+\n",
            "\n"
          ]
        }
      ]
    },
    {
      "cell_type": "code",
      "source": [
        "from pyspark.sql.functions import length\n",
        "\n",
        "length_df = df.withColumn(\"model_length\", length(col(\"model\")))\n",
        "length_df.show()"
      ],
      "metadata": {
        "colab": {
          "base_uri": "https://localhost:8080/"
        },
        "id": "FBZ5-B7met7c",
        "outputId": "9fc969da-406e-4843-e7c8-cbcfb79f754d"
      },
      "execution_count": null,
      "outputs": [
        {
          "output_type": "stream",
          "name": "stdout",
          "text": [
            "+----------------+--------+----+------------+\n",
            "|           model|    type|year|model_length|\n",
            "+----------------+--------+----+------------+\n",
            "|    Toyota Camry|   Sedan|2022|          12|\n",
            "|     Honda Civic|   Sedan|2022|          11|\n",
            "|      Ford F-150|   Truck|2022|          10|\n",
            "|   Tesla Model 3|Electric|2022|          13|\n",
            "|Chevrolet Malibu|   Sedan|2022|          16|\n",
            "+----------------+--------+----+------------+\n",
            "\n"
          ]
        }
      ]
    },
    {
      "cell_type": "code",
      "source": [
        "from pyspark.sql.functions import instr\n",
        "\n",
        "position_df = df.withColumn(\"camry_position\", instr(col(\"model\"), \"Camry\"))\n",
        "position_df.show()"
      ],
      "metadata": {
        "colab": {
          "base_uri": "https://localhost:8080/"
        },
        "id": "xumDr_tve0M1",
        "outputId": "385ed603-e4e6-4019-d0bb-f919ba19079d"
      },
      "execution_count": null,
      "outputs": [
        {
          "output_type": "stream",
          "name": "stdout",
          "text": [
            "+----------------+--------+----+--------------+\n",
            "|           model|    type|year|camry_position|\n",
            "+----------------+--------+----+--------------+\n",
            "|    Toyota Camry|   Sedan|2022|             8|\n",
            "|     Honda Civic|   Sedan|2022|             0|\n",
            "|      Ford F-150|   Truck|2022|             0|\n",
            "|   Tesla Model 3|Electric|2022|             0|\n",
            "|Chevrolet Malibu|   Sedan|2022|             0|\n",
            "+----------------+--------+----+--------------+\n",
            "\n"
          ]
        }
      ]
    },
    {
      "cell_type": "code",
      "source": [
        "data = [(\"kitten\", \"sitting\"),\n",
        "        (\"flaw\", \"lawn\"),\n",
        "        (\"hello\", \"world\")]\n",
        "columns = [\"string1\", \"string2\"]\n",
        "\n",
        "df = spark.createDataFrame(data, columns)\n",
        "\n",
        "distance_df = df.withColumn(\"levenshtein_distance\", levenshtein(col(\"string1\"), col(\"string2\")))\n",
        "distance_df.show()"
      ],
      "metadata": {
        "colab": {
          "base_uri": "https://localhost:8080/"
        },
        "id": "lYVd41Uvk-xk",
        "outputId": "b5dcab47-afca-402f-c87a-c7899a32144c"
      },
      "execution_count": null,
      "outputs": [
        {
          "output_type": "stream",
          "name": "stdout",
          "text": [
            "+-------+-------+--------------------+\n",
            "|string1|string2|levenshtein_distance|\n",
            "+-------+-------+--------------------+\n",
            "| kitten|sitting|                   3|\n",
            "|   flaw|   lawn|                   2|\n",
            "|  hello|  world|                   4|\n",
            "+-------+-------+--------------------+\n",
            "\n"
          ]
        }
      ]
    },
    {
      "cell_type": "code",
      "source": [
        "from pyspark.sql.functions import levenshtein\n",
        "\n",
        "levenshtein_df = df.withColumn(\"levenshtein_distance\", levenshtein(col(\"model\"), col(\"type\")))\n",
        "levenshtein_df.show()"
      ],
      "metadata": {
        "colab": {
          "base_uri": "https://localhost:8080/"
        },
        "id": "P-ZTAC_5kQxT",
        "outputId": "115145b2-1416-4c90-9a6b-9bfcaa99fd58"
      },
      "execution_count": null,
      "outputs": [
        {
          "output_type": "stream",
          "name": "stdout",
          "text": [
            "+----------------+--------+----+--------------------+\n",
            "|           model|    type|year|levenshtein_distance|\n",
            "+----------------+--------+----+--------------------+\n",
            "|    Toyota Camry|   Sedan|2022|                  11|\n",
            "|     Honda Civic|   Sedan|2022|                   9|\n",
            "|      Ford F-150|   Truck|2022|                   9|\n",
            "|   Tesla Model 3|Electric|2022|                  12|\n",
            "|Chevrolet Malibu|   Sedan|2022|                  14|\n",
            "+----------------+--------+----+--------------------+\n",
            "\n"
          ]
        }
      ]
    },
    {
      "cell_type": "code",
      "source": [
        "from pyspark.sql.functions import ltrim\n",
        "\n",
        "trimmed_df = df.withColumn(\"model_trimmed\", ltrim(df['model']))\n",
        "trimmed_df.show()"
      ],
      "metadata": {
        "colab": {
          "base_uri": "https://localhost:8080/"
        },
        "id": "FpUPg-TzwPeE",
        "outputId": "8bfbd7d9-553f-4b0b-ea56-94dd2c93608b"
      },
      "execution_count": null,
      "outputs": [
        {
          "output_type": "stream",
          "name": "stdout",
          "text": [
            "+----------------+--------+----+----------------+\n",
            "|           model|    type|year|   model_trimmed|\n",
            "+----------------+--------+----+----------------+\n",
            "|    Toyota Camry|   Sedan|2022|    Toyota Camry|\n",
            "|     Honda Civic|   Sedan|2022|     Honda Civic|\n",
            "|      Ford F-150|   Truck|2022|      Ford F-150|\n",
            "|   Tesla Model 3|Electric|2022|   Tesla Model 3|\n",
            "|Chevrolet Malibu|   Sedan|2022|Chevrolet Malibu|\n",
            "+----------------+--------+----+----------------+\n",
            "\n"
          ]
        }
      ]
    },
    {
      "cell_type": "code",
      "source": [
        "from pyspark.sql.functions import locate\n",
        "\n",
        "position_df = df.withColumn(\"sedan_position\", locate(\"Sedan\", col(\"type\"), 1))\n",
        "position_df.show()"
      ],
      "metadata": {
        "colab": {
          "base_uri": "https://localhost:8080/"
        },
        "id": "ev13uXj7wUAz",
        "outputId": "7b536c29-2919-4f9b-f059-911c195b9406"
      },
      "execution_count": null,
      "outputs": [
        {
          "output_type": "stream",
          "name": "stdout",
          "text": [
            "+----------------+--------+----+--------------+\n",
            "|           model|    type|year|sedan_position|\n",
            "+----------------+--------+----+--------------+\n",
            "|    Toyota Camry|   Sedan|2022|             1|\n",
            "|     Honda Civic|   Sedan|2022|             1|\n",
            "|      Ford F-150|   Truck|2022|             0|\n",
            "|   Tesla Model 3|Electric|2022|             0|\n",
            "|Chevrolet Malibu|   Sedan|2022|             1|\n",
            "+----------------+--------+----+--------------+\n",
            "\n"
          ]
        }
      ]
    },
    {
      "cell_type": "code",
      "source": [
        "from pyspark.sql.functions import regexp_replace\n",
        "\n",
        "# Replace \"Sedan\" with \"Compact\" in the \"type\" column\n",
        "replaced_df = df.withColumn(\"type_replaced\", regexp_replace(col(\"type\"), \"Sedan\", \"Compact\"))\n",
        "replaced_df.show()"
      ],
      "metadata": {
        "colab": {
          "base_uri": "https://localhost:8080/"
        },
        "id": "bYtAjBH0wYaU",
        "outputId": "cbc4b66d-f1f3-4cc9-abb2-343d1e557431"
      },
      "execution_count": null,
      "outputs": [
        {
          "output_type": "stream",
          "name": "stdout",
          "text": [
            "+----------------+--------+----+-------------+\n",
            "|           model|    type|year|type_replaced|\n",
            "+----------------+--------+----+-------------+\n",
            "|    Toyota Camry|   Sedan|2022|      Compact|\n",
            "|     Honda Civic|   Sedan|2022|      Compact|\n",
            "|      Ford F-150|   Truck|2022|        Truck|\n",
            "|   Tesla Model 3|Electric|2022|     Electric|\n",
            "|Chevrolet Malibu|   Sedan|2022|      Compact|\n",
            "+----------------+--------+----+-------------+\n",
            "\n"
          ]
        }
      ]
    },
    {
      "cell_type": "code",
      "source": [
        "from pyspark.sql.functions import initcap\n",
        "\n",
        "capitalized_df = df.withColumn(\"model_capitalized\", initcap(col(\"model\")))\n",
        "capitalized_df.show()"
      ],
      "metadata": {
        "colab": {
          "base_uri": "https://localhost:8080/"
        },
        "id": "4EfEk6sDwcQ7",
        "outputId": "0a2eb53c-251a-4e7c-aab1-d7548c86521f"
      },
      "execution_count": null,
      "outputs": [
        {
          "output_type": "stream",
          "name": "stdout",
          "text": [
            "+----------------+--------+----+-----------------+\n",
            "|           model|    type|year|model_capitalized|\n",
            "+----------------+--------+----+-----------------+\n",
            "|    Toyota Camry|   Sedan|2022|     Toyota Camry|\n",
            "|     Honda Civic|   Sedan|2022|      Honda Civic|\n",
            "|      Ford F-150|   Truck|2022|       Ford F-150|\n",
            "|   Tesla Model 3|Electric|2022|    Tesla Model 3|\n",
            "|Chevrolet Malibu|   Sedan|2022| Chevrolet Malibu|\n",
            "+----------------+--------+----+-----------------+\n",
            "\n"
          ]
        }
      ]
    },
    {
      "cell_type": "code",
      "source": [
        "from pyspark.sql.functions import regexp_replace\n",
        "\n",
        "replaced_df = df.withColumn(\"type_replaced\", regexp_replace(col(\"type\"), \"Electric\", \"EV\"))\n",
        "replaced_df.show()"
      ],
      "metadata": {
        "colab": {
          "base_uri": "https://localhost:8080/"
        },
        "id": "Stx-0F2WwgVk",
        "outputId": "3d8f5583-8586-49c4-858f-19c8efbf6ab0"
      },
      "execution_count": null,
      "outputs": [
        {
          "output_type": "stream",
          "name": "stdout",
          "text": [
            "+----------------+--------+----+-------------+\n",
            "|           model|    type|year|type_replaced|\n",
            "+----------------+--------+----+-------------+\n",
            "|    Toyota Camry|   Sedan|2022|        Sedan|\n",
            "|     Honda Civic|   Sedan|2022|        Sedan|\n",
            "|      Ford F-150|   Truck|2022|        Truck|\n",
            "|   Tesla Model 3|Electric|2022|           EV|\n",
            "|Chevrolet Malibu|   Sedan|2022|        Sedan|\n",
            "+----------------+--------+----+-------------+\n",
            "\n"
          ]
        }
      ]
    },
    {
      "cell_type": "code",
      "source": [
        "from pyspark.sql.functions import regexp_extract\n",
        "\n",
        "extracted_df = df.withColumn(\"model_digits\", regexp_extract(col(\"model\"), \"(\\d+)\", 1))\n",
        "extracted_df.show()"
      ],
      "metadata": {
        "colab": {
          "base_uri": "https://localhost:8080/"
        },
        "id": "7UipiouAwkis",
        "outputId": "9514437b-8ef1-463c-bf10-01c310969e10"
      },
      "execution_count": null,
      "outputs": [
        {
          "output_type": "stream",
          "name": "stdout",
          "text": [
            "+----------------+--------+----+------------+\n",
            "|           model|    type|year|model_digits|\n",
            "+----------------+--------+----+------------+\n",
            "|    Toyota Camry|   Sedan|2022|            |\n",
            "|     Honda Civic|   Sedan|2022|            |\n",
            "|      Ford F-150|   Truck|2022|         150|\n",
            "|   Tesla Model 3|Electric|2022|           3|\n",
            "|Chevrolet Malibu|   Sedan|2022|            |\n",
            "+----------------+--------+----+------------+\n",
            "\n"
          ]
        }
      ]
    },
    {
      "cell_type": "code",
      "source": [
        "from pyspark.sql.functions import encode\n",
        "\n",
        "encoded_df = df.withColumn(\"model_encoded\", encode(col(\"model\"), \"UTF-8\"))\n",
        "encoded_df.show()"
      ],
      "metadata": {
        "colab": {
          "base_uri": "https://localhost:8080/"
        },
        "id": "QHNxQ3yUwoKM",
        "outputId": "969ef1bd-595c-47b9-821a-98a7b5f627e5"
      },
      "execution_count": null,
      "outputs": [
        {
          "output_type": "stream",
          "name": "stdout",
          "text": [
            "+----------------+--------+----+--------------------+\n",
            "|           model|    type|year|       model_encoded|\n",
            "+----------------+--------+----+--------------------+\n",
            "|    Toyota Camry|   Sedan|2022|[54 6F 79 6F 74 6...|\n",
            "|     Honda Civic|   Sedan|2022|[48 6F 6E 64 61 2...|\n",
            "|      Ford F-150|   Truck|2022|[46 6F 72 64 20 4...|\n",
            "|   Tesla Model 3|Electric|2022|[54 65 73 6C 61 2...|\n",
            "|Chevrolet Malibu|   Sedan|2022|[43 68 65 76 72 6...|\n",
            "+----------------+--------+----+--------------------+\n",
            "\n"
          ]
        }
      ]
    },
    {
      "cell_type": "code",
      "source": [
        "from pyspark.sql.functions import decode\n",
        "\n",
        "decoded_df = encoded_df.withColumn(\"model_decoded\", decode(col(\"model_encoded\"), \"UTF-8\"))\n",
        "decoded_df.show()"
      ],
      "metadata": {
        "colab": {
          "base_uri": "https://localhost:8080/"
        },
        "id": "jP2gBfKxwrmU",
        "outputId": "bbd4d835-7706-4fcf-a239-016be5e7cab1"
      },
      "execution_count": null,
      "outputs": [
        {
          "output_type": "stream",
          "name": "stdout",
          "text": [
            "+----------------+--------+----+--------------------+----------------+\n",
            "|           model|    type|year|       model_encoded|   model_decoded|\n",
            "+----------------+--------+----+--------------------+----------------+\n",
            "|    Toyota Camry|   Sedan|2022|[54 6F 79 6F 74 6...|    Toyota Camry|\n",
            "|     Honda Civic|   Sedan|2022|[48 6F 6E 64 61 2...|     Honda Civic|\n",
            "|      Ford F-150|   Truck|2022|[46 6F 72 64 20 4...|      Ford F-150|\n",
            "|   Tesla Model 3|Electric|2022|[54 65 73 6C 61 2...|   Tesla Model 3|\n",
            "|Chevrolet Malibu|   Sedan|2022|[43 68 65 76 72 6...|Chevrolet Malibu|\n",
            "+----------------+--------+----+--------------------+----------------+\n",
            "\n"
          ]
        }
      ]
    },
    {
      "cell_type": "code",
      "source": [
        "from pyspark.sql.functions import format_number\n",
        "\n",
        "formatted_df = df.withColumn(\"age_formatted\", format_number(col(\"year\").cast(\"double\"), 2))\n",
        "formatted_df.show()"
      ],
      "metadata": {
        "colab": {
          "base_uri": "https://localhost:8080/"
        },
        "id": "MlUO6io6wtOF",
        "outputId": "a87ea446-69c0-41fa-bc1e-8c9c22b62365"
      },
      "execution_count": null,
      "outputs": [
        {
          "output_type": "stream",
          "name": "stdout",
          "text": [
            "+----------------+--------+----+-------------+\n",
            "|           model|    type|year|age_formatted|\n",
            "+----------------+--------+----+-------------+\n",
            "|    Toyota Camry|   Sedan|2022|     2,022.00|\n",
            "|     Honda Civic|   Sedan|2022|     2,022.00|\n",
            "|      Ford F-150|   Truck|2022|     2,022.00|\n",
            "|   Tesla Model 3|Electric|2022|     2,022.00|\n",
            "|Chevrolet Malibu|   Sedan|2022|     2,022.00|\n",
            "+----------------+--------+----+-------------+\n",
            "\n"
          ]
        }
      ]
    },
    {
      "cell_type": "code",
      "source": [
        "from pyspark.sql.functions import format_string\n",
        "\n",
        "formatted_string_df = df.withColumn(\n",
        "    \"formatted_details\",\n",
        "    format_string(\"%s (%s) - %s\", col(\"model\"), col(\"type\"), col(\"year\"))\n",
        ")\n",
        "formatted_string_df.show(truncate=False)"
      ],
      "metadata": {
        "colab": {
          "base_uri": "https://localhost:8080/"
        },
        "id": "ln0BYhxrw1dN",
        "outputId": "b8978e18-964a-4c01-9762-078b82bf93ef"
      },
      "execution_count": null,
      "outputs": [
        {
          "output_type": "stream",
          "name": "stdout",
          "text": [
            "+----------------+--------+----+-------------------------------+\n",
            "|model           |type    |year|formatted_details              |\n",
            "+----------------+--------+----+-------------------------------+\n",
            "|Toyota Camry    |Sedan   |2022|Toyota Camry (Sedan) - 2022    |\n",
            "|Honda Civic     |Sedan   |2022|Honda Civic (Sedan) - 2022     |\n",
            "|Ford F-150      |Truck   |2022|Ford F-150 (Truck) - 2022      |\n",
            "|Tesla Model 3   |Electric|2022|Tesla Model 3 (Electric) - 2022|\n",
            "|Chevrolet Malibu|Sedan   |2022|Chevrolet Malibu (Sedan) - 2022|\n",
            "+----------------+--------+----+-------------------------------+\n",
            "\n"
          ]
        }
      ]
    },
    {
      "cell_type": "code",
      "source": [
        "from pyspark.sql.functions import locate\n",
        "\n",
        "position_df = df.withColumn(\"camry_position\", locate(\"Camry\", col(\"model\")))\n",
        "position_df.show()"
      ],
      "metadata": {
        "id": "SkIoGfQpw5At"
      },
      "execution_count": null,
      "outputs": []
    }
  ]
}