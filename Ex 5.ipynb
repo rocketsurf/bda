{
  "nbformat": 4,
  "nbformat_minor": 0,
  "metadata": {
    "colab": {
      "provenance": []
    },
    "kernelspec": {
      "name": "python3",
      "display_name": "Python 3"
    },
    "language_info": {
      "name": "python"
    }
  },
  "cells": [
    {
      "cell_type": "code",
      "source": [
        " !pip install pyspark"
      ],
      "metadata": {
        "colab": {
          "base_uri": "https://localhost:8080/"
        },
        "id": "tU1BhQkQoaPE",
        "outputId": "f4a224a8-d12a-4931-fad5-1df51877b00c"
      },
      "execution_count": null,
      "outputs": [
        {
          "output_type": "stream",
          "name": "stdout",
          "text": [
            "Collecting pyspark\n",
            "  Downloading pyspark-3.5.3.tar.gz (317.3 MB)\n",
            "\u001b[2K     \u001b[90m━━━━━━━━━━━━━━━━━━━━━━━━━━━━━━━━━━━━━━━━\u001b[0m \u001b[32m317.3/317.3 MB\u001b[0m \u001b[31m4.7 MB/s\u001b[0m eta \u001b[36m0:00:00\u001b[0m\n",
            "\u001b[?25h  Preparing metadata (setup.py) ... \u001b[?25l\u001b[?25hdone\n",
            "Requirement already satisfied: py4j==0.10.9.7 in /usr/local/lib/python3.10/dist-packages (from pyspark) (0.10.9.7)\n",
            "Building wheels for collected packages: pyspark\n",
            "  Building wheel for pyspark (setup.py) ... \u001b[?25l\u001b[?25hdone\n",
            "  Created wheel for pyspark: filename=pyspark-3.5.3-py2.py3-none-any.whl size=317840625 sha256=4da47573f231f27892d31efa67a8c8e1026be44e8445e2b506fa61e5b5f3da16\n",
            "  Stored in directory: /root/.cache/pip/wheels/1b/3a/92/28b93e2fbfdbb07509ca4d6f50c5e407f48dce4ddbda69a4ab\n",
            "Successfully built pyspark\n",
            "Installing collected packages: pyspark\n",
            "Successfully installed pyspark-3.5.3\n"
          ]
        }
      ]
    },
    {
      "cell_type": "code",
      "execution_count": null,
      "metadata": {
        "id": "rp1dy1XIn8Zk"
      },
      "outputs": [],
      "source": [
        "from pyspark.sql import SparkSession\n",
        "spark = SparkSession.builder.appName('MySparkApp').enableHiveSupport().getOrCreate()"
      ]
    },
    {
      "cell_type": "code",
      "source": [
        "from pyspark.sql import functions as F"
      ],
      "metadata": {
        "id": "D1ocDZuGp50k"
      },
      "execution_count": null,
      "outputs": []
    },
    {
      "cell_type": "code",
      "source": [
        "data = [(\"101\",\"Henry\", 25), (\"102\",\"Jack\", 30), (\"103\",\"Peter\", 35)]\n",
        "columns = [\"ID\", \"Name\", \"Age\"]\n",
        "df = spark.createDataFrame(data, columns)\n",
        "df.show()\n",
        "print(type(df))"
      ],
      "metadata": {
        "colab": {
          "base_uri": "https://localhost:8080/"
        },
        "id": "29yV9_SYoj9D",
        "outputId": "d24e5340-be1f-42a1-a127-ab88027234ec"
      },
      "execution_count": null,
      "outputs": [
        {
          "output_type": "stream",
          "name": "stdout",
          "text": [
            "+---+-----+---+\n",
            "| ID| Name|Age|\n",
            "+---+-----+---+\n",
            "|101|Henry| 25|\n",
            "|102| Jack| 30|\n",
            "|103|Peter| 35|\n",
            "+---+-----+---+\n",
            "\n",
            "<class 'pyspark.sql.dataframe.DataFrame'>\n"
          ]
        }
      ]
    },
    {
      "cell_type": "code",
      "source": [
        "df.createOrReplaceTempView(\"stud_view\")\n",
        "result = spark.sql(\"SELECT * FROM stud_view\")\n",
        "result.show()\n",
        "result = spark.sql(\"SELECT * FROM stud_view WHERE age>25\")\n",
        "result.show()"
      ],
      "metadata": {
        "colab": {
          "base_uri": "https://localhost:8080/"
        },
        "id": "R-d9AZTIoTOL",
        "outputId": "1266b1f5-a71c-4ce1-decd-89b72481feda"
      },
      "execution_count": null,
      "outputs": [
        {
          "output_type": "stream",
          "name": "stdout",
          "text": [
            "+---+-----+---+\n",
            "| ID| Name|Age|\n",
            "+---+-----+---+\n",
            "|101|Henry| 25|\n",
            "|102| Jack| 30|\n",
            "|103|Peter| 35|\n",
            "+---+-----+---+\n",
            "\n",
            "+---+-----+---+\n",
            "| ID| Name|Age|\n",
            "+---+-----+---+\n",
            "|102| Jack| 30|\n",
            "|103|Peter| 35|\n",
            "+---+-----+---+\n",
            "\n"
          ]
        }
      ]
    },
    {
      "cell_type": "code",
      "source": [
        "df.write.saveAsTable(\"stud_table\")\n",
        "df.printSchema()"
      ],
      "metadata": {
        "colab": {
          "base_uri": "https://localhost:8080/"
        },
        "id": "D797QRe1q99l",
        "outputId": "b6d3282f-9ae9-4a39-e06f-202694645958"
      },
      "execution_count": null,
      "outputs": [
        {
          "output_type": "stream",
          "name": "stdout",
          "text": [
            "root\n",
            " |-- ID: string (nullable = true)\n",
            " |-- Name: string (nullable = true)\n",
            " |-- Age: long (nullable = true)\n",
            "\n"
          ]
        }
      ]
    },
    {
      "cell_type": "code",
      "source": [
        "spark.sql(\"CREATE TABLE IF NOT EXISTS new_stud_table AS SELECT * FROM stud_table\")"
      ],
      "metadata": {
        "colab": {
          "base_uri": "https://localhost:8080/"
        },
        "id": "LRRUvRkLsA20",
        "outputId": "292f9fc9-94be-46cd-a6b8-25eda2331414"
      },
      "execution_count": null,
      "outputs": [
        {
          "output_type": "execute_result",
          "data": {
            "text/plain": [
              "DataFrame[]"
            ]
          },
          "metadata": {},
          "execution_count": 17
        }
      ]
    },
    {
      "cell_type": "code",
      "source": [
        "spark.sql(\"DESCRIBE new_stud_table\").show()"
      ],
      "metadata": {
        "colab": {
          "base_uri": "https://localhost:8080/"
        },
        "id": "KX7j4UsUtIMt",
        "outputId": "19fd8ab1-03bf-404c-9a70-46cd012371ce"
      },
      "execution_count": null,
      "outputs": [
        {
          "output_type": "stream",
          "name": "stdout",
          "text": [
            "+--------+---------+-------+\n",
            "|col_name|data_type|comment|\n",
            "+--------+---------+-------+\n",
            "|      ID|   string|   NULL|\n",
            "|    Name|   string|   NULL|\n",
            "|     Age|   bigint|   NULL|\n",
            "+--------+---------+-------+\n",
            "\n"
          ]
        }
      ]
    },
    {
      "cell_type": "code",
      "source": [
        "spark.sql(\"SHOW COLUMNS FROM new_stud_table\").show()"
      ],
      "metadata": {
        "colab": {
          "base_uri": "https://localhost:8080/"
        },
        "id": "vcgmTT6ntUDT",
        "outputId": "c3c368d8-6646-405e-e89c-8e35908f7835"
      },
      "execution_count": null,
      "outputs": [
        {
          "output_type": "stream",
          "name": "stdout",
          "text": [
            "+--------+\n",
            "|col_name|\n",
            "+--------+\n",
            "|      ID|\n",
            "|    Name|\n",
            "|     Age|\n",
            "+--------+\n",
            "\n"
          ]
        }
      ]
    },
    {
      "cell_type": "code",
      "source": [
        "spark.sql(\"ALTER TABLE new_stud_table ADD COLUMN  branch STRING\")"
      ],
      "metadata": {
        "colab": {
          "base_uri": "https://localhost:8080/"
        },
        "id": "qXfteB2vt57V",
        "outputId": "e37f239e-1e08-436f-f7bd-fea666a54ed5"
      },
      "execution_count": null,
      "outputs": [
        {
          "output_type": "execute_result",
          "data": {
            "text/plain": [
              "DataFrame[]"
            ]
          },
          "metadata": {},
          "execution_count": 22
        }
      ]
    },
    {
      "cell_type": "code",
      "source": [
        "spark.sql(\"DESCRIBE new_stud_table\").show()"
      ],
      "metadata": {
        "colab": {
          "base_uri": "https://localhost:8080/"
        },
        "id": "dIzGkh-M10zt",
        "outputId": "19986a34-d41b-4df0-d537-8afa4426c948"
      },
      "execution_count": null,
      "outputs": [
        {
          "output_type": "stream",
          "name": "stdout",
          "text": [
            "+--------+---------+-------+\n",
            "|col_name|data_type|comment|\n",
            "+--------+---------+-------+\n",
            "|      ID|   string|   NULL|\n",
            "|    Name|   string|   NULL|\n",
            "|     Age|   bigint|   NULL|\n",
            "|  branch|   string|   NULL|\n",
            "+--------+---------+-------+\n",
            "\n"
          ]
        }
      ]
    },
    {
      "cell_type": "code",
      "source": [
        "spark.sql(\"INSERT INTO TABLE new_stud_table VALUES ('104','David',26,'AIDS'),('105','Sara',27,'AIDS')\")"
      ],
      "metadata": {
        "colab": {
          "base_uri": "https://localhost:8080/"
        },
        "id": "z2_Ya0lu3Tym",
        "outputId": "8687a271-d163-4ae3-9976-d66ec8de2776"
      },
      "execution_count": null,
      "outputs": [
        {
          "output_type": "execute_result",
          "data": {
            "text/plain": [
              "DataFrame[]"
            ]
          },
          "metadata": {},
          "execution_count": 26
        }
      ]
    },
    {
      "cell_type": "code",
      "source": [
        "spark.sql(\"SELECT * FROM new_stud_table order by age\").show()"
      ],
      "metadata": {
        "colab": {
          "base_uri": "https://localhost:8080/"
        },
        "id": "V--M5Xys3Cn3",
        "outputId": "52e72893-2403-40f4-d41e-99aab5237a70"
      },
      "execution_count": null,
      "outputs": [
        {
          "output_type": "stream",
          "name": "stdout",
          "text": [
            "+---+-----+---+------+\n",
            "| ID| Name|Age|branch|\n",
            "+---+-----+---+------+\n",
            "|101|Henry| 25|  NULL|\n",
            "|104|David| 26|  AIDS|\n",
            "|105| Sara| 27|  AIDS|\n",
            "|102| Jack| 30|  NULL|\n",
            "|103|Peter| 35|  NULL|\n",
            "+---+-----+---+------+\n",
            "\n"
          ]
        }
      ]
    },
    {
      "cell_type": "code",
      "source": [
        "df = spark.read.table(\"new_stud_table\")\n",
        "df.show()"
      ],
      "metadata": {
        "colab": {
          "base_uri": "https://localhost:8080/"
        },
        "id": "MtCPtnh_3Sc9",
        "outputId": "732ad647-fce2-4324-990a-3a5639985d3f"
      },
      "execution_count": null,
      "outputs": [
        {
          "output_type": "stream",
          "name": "stdout",
          "text": [
            "+---+-----+---+------+\n",
            "| ID| Name|Age|branch|\n",
            "+---+-----+---+------+\n",
            "|104|David| 26|  AIDS|\n",
            "|102| Jack| 30|  NULL|\n",
            "|103|Peter| 35|  NULL|\n",
            "|105| Sara| 27|  AIDS|\n",
            "|101|Henry| 25|  NULL|\n",
            "+---+-----+---+------+\n",
            "\n"
          ]
        }
      ]
    },
    {
      "cell_type": "code",
      "source": [
        "from pyspark.sql.functions import expr\n",
        "updated_df = df.withColumn(\"age_plus_5\",expr(\"age + 5\"))\n",
        "updated_df.show()"
      ],
      "metadata": {
        "colab": {
          "base_uri": "https://localhost:8080/"
        },
        "id": "9qvtcxmI5EM2",
        "outputId": "a8c05afc-8407-4cfe-f250-e8b8be720b7e"
      },
      "execution_count": null,
      "outputs": [
        {
          "output_type": "stream",
          "name": "stdout",
          "text": [
            "+---+-----+---+------+----------+\n",
            "| ID| Name|Age|branch|age_plus_5|\n",
            "+---+-----+---+------+----------+\n",
            "|104|David| 26|  AIDS|        31|\n",
            "|102| Jack| 30|  NULL|        35|\n",
            "|103|Peter| 35|  NULL|        40|\n",
            "|105| Sara| 27|  AIDS|        32|\n",
            "|101|Henry| 25|  NULL|        30|\n",
            "+---+-----+---+------+----------+\n",
            "\n"
          ]
        }
      ]
    },
    {
      "cell_type": "code",
      "source": [
        "updated_df = df.withColumn(\"age\",expr(\"age + 1\"))\n",
        "updated_df.show()"
      ],
      "metadata": {
        "colab": {
          "base_uri": "https://localhost:8080/"
        },
        "id": "Zb4vP3As6wfO",
        "outputId": "6a938111-2ef2-4235-d8d5-da749e8f612f"
      },
      "execution_count": null,
      "outputs": [
        {
          "output_type": "stream",
          "name": "stdout",
          "text": [
            "+---+-----+---+------+\n",
            "| ID| Name|age|branch|\n",
            "+---+-----+---+------+\n",
            "|104|David| 27|  AIDS|\n",
            "|102| Jack| 31|  NULL|\n",
            "|103|Peter| 36|  NULL|\n",
            "|105| Sara| 28|  AIDS|\n",
            "|101|Henry| 26|  NULL|\n",
            "+---+-----+---+------+\n",
            "\n"
          ]
        }
      ]
    },
    {
      "cell_type": "code",
      "source": [
        "from pyspark.sql.functions import when\n",
        "updated_df = df.withColumn(\"is_adult\",when(expr(\"age>=18\"),\"Yes\").otherwise(\"No\"))\n",
        "updated_df.show()"
      ],
      "metadata": {
        "colab": {
          "base_uri": "https://localhost:8080/"
        },
        "id": "PhZhANo87TPN",
        "outputId": "82f8eae6-7968-458f-dda2-3fce1a9fa1c2"
      },
      "execution_count": null,
      "outputs": [
        {
          "output_type": "stream",
          "name": "stdout",
          "text": [
            "+---+-----+---+------+--------+\n",
            "| ID| Name|Age|branch|is_adult|\n",
            "+---+-----+---+------+--------+\n",
            "|104|David| 26|  AIDS|     Yes|\n",
            "|102| Jack| 30|  NULL|     Yes|\n",
            "|103|Peter| 35|  NULL|     Yes|\n",
            "|105| Sara| 27|  AIDS|     Yes|\n",
            "|101|Henry| 25|  NULL|     Yes|\n",
            "+---+-----+---+------+--------+\n",
            "\n"
          ]
        }
      ]
    },
    {
      "cell_type": "code",
      "source": [
        "from pyspark.sql.functions import col\n",
        "updated_df = df.withColumn(\"is_adult\",when(col(\"age\")>=18,\"Yes\").otherwise(\"No\"))\n",
        "updated_df.show()"
      ],
      "metadata": {
        "colab": {
          "base_uri": "https://localhost:8080/"
        },
        "id": "eHsNfAJ1796G",
        "outputId": "654a34e6-03f1-41bb-98dc-63c5ef626194"
      },
      "execution_count": null,
      "outputs": [
        {
          "output_type": "stream",
          "name": "stdout",
          "text": [
            "+---+-----+---+------+--------+\n",
            "| ID| Name|Age|branch|is_adult|\n",
            "+---+-----+---+------+--------+\n",
            "|104|David| 26|  AIDS|     Yes|\n",
            "|102| Jack| 30|  NULL|     Yes|\n",
            "|103|Peter| 35|  NULL|     Yes|\n",
            "|105| Sara| 27|  AIDS|     Yes|\n",
            "|101|Henry| 25|  NULL|     Yes|\n",
            "+---+-----+---+------+--------+\n",
            "\n"
          ]
        }
      ]
    },
    {
      "cell_type": "code",
      "source": [
        "spark.sql(\"ALTER TABLE new_stud_table ADD COLUMN  Mark_1 INT\")\n",
        "spark.sql(\"ALTER TABLE new_stud_table ADD COLUMN  Mark_2 INT\")\n",
        "spark.sql(\"ALTER TABLE new_stud_table ADD COLUMN  Mark_3 INT\")"
      ],
      "metadata": {
        "colab": {
          "base_uri": "https://localhost:8080/"
        },
        "id": "7zmTPhpz9q0-",
        "outputId": "d54d029c-f70a-4988-e4cb-6308f3f3d504"
      },
      "execution_count": null,
      "outputs": [
        {
          "output_type": "execute_result",
          "data": {
            "text/plain": [
              "DataFrame[]"
            ]
          },
          "metadata": {},
          "execution_count": 39
        }
      ]
    },
    {
      "cell_type": "code",
      "source": [
        "spark.sql(\"DESCRIBE new_stud_table\").show()"
      ],
      "metadata": {
        "colab": {
          "base_uri": "https://localhost:8080/"
        },
        "id": "oK3nYPIK-9RG",
        "outputId": "bab62df1-6e62-463c-be29-890bbe504444"
      },
      "execution_count": null,
      "outputs": [
        {
          "output_type": "stream",
          "name": "stdout",
          "text": [
            "+--------+---------+-------+\n",
            "|col_name|data_type|comment|\n",
            "+--------+---------+-------+\n",
            "|      ID|   string|   NULL|\n",
            "|    Name|   string|   NULL|\n",
            "|     Age|   bigint|   NULL|\n",
            "|  branch|   string|   NULL|\n",
            "|  Mark_1|      int|   NULL|\n",
            "|  Mark_2|      int|   NULL|\n",
            "|  Mark_3|      int|   NULL|\n",
            "+--------+---------+-------+\n",
            "\n"
          ]
        }
      ]
    },
    {
      "cell_type": "code",
      "source": [
        "# Load the table 'new_stud_table' into a DataFrame.\n",
        "df = spark.sql(\"SELECT * FROM new_stud_table\")\n",
        "\n",
        "# Now you can use the withColumn and when functions to add the 'is_mark' column.\n",
        "from pyspark.sql.functions import col\n",
        "updated_df = df.withColumn(\"is_mark\",when(col(\"Mark_1\")>=50,\"Fail\").otherwise(\"Pass\"))\n",
        "updated_df.show()"
      ],
      "metadata": {
        "colab": {
          "base_uri": "https://localhost:8080/"
        },
        "id": "VvnCJw1t_B5l",
        "outputId": "4d2b9068-7e3c-4b7b-f777-da974e959635"
      },
      "execution_count": null,
      "outputs": [
        {
          "output_type": "stream",
          "name": "stdout",
          "text": [
            "+---+-----+---+------+------+------+------+-------+\n",
            "| ID| Name|Age|branch|Mark_1|Mark_2|Mark_3|is_mark|\n",
            "+---+-----+---+------+------+------+------+-------+\n",
            "|104|David| 26|  AIDS|  NULL|  NULL|  NULL|   Pass|\n",
            "|102| Jack| 30|  NULL|  NULL|  NULL|  NULL|   Pass|\n",
            "|103|Peter| 35|  NULL|  NULL|  NULL|  NULL|   Pass|\n",
            "|105| Sara| 27|  AIDS|  NULL|  NULL|  NULL|   Pass|\n",
            "|101|Henry| 25|  NULL|  NULL|  NULL|  NULL|   Pass|\n",
            "+---+-----+---+------+------+------+------+-------+\n",
            "\n"
          ]
        }
      ]
    },
    {
      "cell_type": "code",
      "source": [],
      "metadata": {
        "id": "ZxK9fpW1_vCm"
      },
      "execution_count": null,
      "outputs": []
    }
  ]
}